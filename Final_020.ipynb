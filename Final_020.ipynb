{
 "cells": [
  {
   "cell_type": "markdown",
   "id": "3a2b562a",
   "metadata": {},
   "source": [
    "# Data Import"
   ]
  },
  {
   "cell_type": "code",
   "execution_count": 1,
   "id": "9f810808",
   "metadata": {},
   "outputs": [
    {
     "name": "stdout",
     "output_type": "stream",
     "text": [
      "Package              Version     Latest      Type\n",
      "-------------------- ----------- ----------- -----\n",
      "alembic              1.7.6       1.7.7       wheel\n",
      "arch                 5.1.0       5.2.0       wheel\n",
      "arrow                0.13.1      1.2.2       wheel\n",
      "asgiref              3.4.1       3.5.0       wheel\n",
      "asn1crypto           1.4.0       1.5.1       wheel\n",
      "astroid              2.6.6       2.11.2      wheel\n",
      "astropy              5.0.2       5.0.4       wheel\n",
      "bitarray             2.3.5       2.4.1       wheel\n",
      "black                19.10b0     22.3.0      wheel\n",
      "category-encoders    2.3.0       2.4.0       wheel\n",
      "charset-normalizer   2.0.4       2.0.12      wheel\n",
      "click                8.0.4       8.1.2       wheel\n",
      "comtypes             1.1.10      1.1.11      wheel\n",
      "contextlib2          0.6.0.post1 21.6.0      wheel\n",
      "cookiecutter         1.7.2       1.7.3       wheel\n",
      "cryptography         3.4.8       36.0.2      wheel\n",
      "cytoolz              0.11.0      0.11.2      sdist\n",
      "daal4py              2021.5.0    2021.5.4    wheel\n",
      "dask                 2022.2.1    2022.4.0    wheel\n",
      "debugpy              1.5.1       1.6.0       wheel\n",
      "distributed          2022.2.1    2022.4.0    wheel\n",
      "Django               3.2.8       4.0.3       wheel\n",
      "entrypoints          0.3         0.4         wheel\n",
      "flake8               3.9.2       4.0.1       wheel\n",
      "Flask                1.1.2       2.1.1       wheel\n",
      "fonttools            4.25.0      4.31.2      wheel\n",
      "fsspec               2022.2.0    2022.3.0    wheel\n",
      "gevent               21.8.0      21.12.0     wheel\n",
      "google-auth-oauthlib 0.4.6       0.5.1       wheel\n",
      "greenlet             1.1.1       1.1.2       wheel\n",
      "h5py                 2.10.0      3.6.0       wheel\n",
      "imagecodecs          2021.8.26   2022.2.22   wheel\n",
      "imageio              2.9.0       2.16.1      wheel\n",
      "importlib-resources  5.4.0       5.6.0       wheel\n",
      "ipykernel            6.9.1       6.11.0      wheel\n",
      "ipython              8.1.1       8.2.0       wheel\n",
      "ipywidgets           7.6.5       7.7.0       wheel\n",
      "isort                5.9.3       5.10.1      wheel\n",
      "itsdangerous         2.0.1       2.1.2       wheel\n",
      "Jinja2               2.11.3      3.1.1       wheel\n",
      "jsonschema           3.2.0       4.4.0       wheel\n",
      "jupyter-client       6.1.12      7.2.1       wheel\n",
      "jupyter-console      6.2.0       6.4.3       wheel\n",
      "jupyter-server       1.13.5      1.16.0      wheel\n",
      "jupyterlab-server    2.10.3      2.12.0      wheel\n",
      "jupyterlab-widgets   1.0.2       1.1.0       wheel\n",
      "keyring              23.4.0      23.5.0      wheel\n",
      "kiwisolver           1.3.2       1.4.2       wheel\n",
      "lazy-object-proxy    1.6.0       1.7.1       wheel\n",
      "libarchive-c         2.9         4.0         wheel\n",
      "llvmlite             0.34.0      0.38.0      wheel\n",
      "Mako                 1.1.6       1.2.0       wheel\n",
      "MarkupSafe           1.1.1       2.1.1       wheel\n",
      "matplotlib-inline    0.1.2       0.1.3       wheel\n",
      "mccabe               0.6.1       0.7.0       wheel\n",
      "mistune              0.8.4       2.0.2       wheel\n",
      "msgpack              1.0.2       1.0.3       wheel\n",
      "multitasking         0.0.9       0.0.10      sdist\n",
      "nbclassic            0.3.6       0.3.7       wheel\n",
      "nbclient             0.5.11      0.5.13      wheel\n",
      "nbconvert            6.1.0       6.4.5       wheel\n",
      "nbformat             5.1.3       5.2.0       wheel\n",
      "nest-asyncio         1.5.1       1.5.5       wheel\n",
      "notebook             6.4.8       6.4.10      wheel\n",
      "numba                0.51.2      0.55.1      wheel\n",
      "numpydoc             1.2         1.2.1       wheel\n",
      "pandas               1.4.1       1.4.2       wheel\n",
      "paramiko             2.8.1       2.10.3      wheel\n",
      "path                 16.2.0      16.4.0      wheel\n",
      "pathlib2             2.3.6       2.3.7.post1 wheel\n",
      "pathspec             0.7.0       0.9.0       wheel\n",
      "Pillow               9.0.1       9.1.0       wheel\n",
      "pip                  21.2.2      22.0.4      wheel\n",
      "prettytable          3.1.1       3.2.0       wheel\n",
      "prompt-toolkit       3.0.20      3.0.28      wheel\n",
      "protobuf             3.19.4      3.20.0      wheel\n",
      "psutil               5.8.0       5.9.0       wheel\n",
      "pycodestyle          2.7.0       2.8.0       wheel\n",
      "pycurl               7.44.1      7.45.1      sdist\n",
      "pyerfa               2.0.0       2.0.0.1     wheel\n",
      "pyflakes             2.3.1       2.4.0       wheel\n",
      "PyJWT                2.1.0       2.3.0       wheel\n",
      "pylint               2.9.6       2.13.4      wheel\n",
      "PyNaCl               1.4.0       1.5.0       wheel\n",
      "pyOpenSSL            19.1.0      22.0.0      wheel\n",
      "pyparsing            3.0.4       3.0.7       wheel\n",
      "pyrsistent           0.18.0      0.18.1      wheel\n",
      "pytest               6.2.5       7.1.1       wheel\n",
      "python-lsp-black     1.0.0       1.2.0       wheel\n",
      "python-lsp-server    1.2.4       1.4.1       wheel\n",
      "python-slugify       5.0.2       6.1.1       wheel\n",
      "pytz                 2021.3      2022.1      wheel\n",
      "PyWavelets           1.1.1       1.3.0       wheel\n",
      "pywin32              302         303         wheel\n",
      "pywinpty             2.0.2       2.0.5       wheel\n",
      "QDarkStyle           3.0.2       3.0.3       wheel\n",
      "qdldl                0.1.5.post0 0.1.5.post2 wheel\n",
      "qstylizer            0.1.10      0.2.1       wheel\n",
      "QtAwesome            1.0.3       1.1.1       wheel\n",
      "qtconsole            5.2.2       5.3.0       wheel\n",
      "QtPy                 1.11.2      2.0.1       wheel\n",
      "Quandl               3.6.1       3.7.0       wheel\n",
      "QuantLib             1.23        1.25        wheel\n",
      "regex                2021.8.3    2022.3.15   wheel\n",
      "resample             1.0.1       1.5.1       sdist\n",
      "Riskfolio-Lib        3.0.1       3.0.2       wheel\n",
      "rope                 0.22.0      0.23.0      wheel\n",
      "scikit-image         0.18.3      0.19.2      wheel\n",
      "scipy                1.7.3       1.8.0       wheel\n",
      "setuptools           58.0.4      61.3.1      wheel\n",
      "sip                  4.19.13     6.5.1       wheel\n",
      "Sphinx               3.2.1       4.5.0       wheel\n",
      "spyder               5.1.5       5.3.0       wheel\n",
      "spyder-kernels       2.1.3       2.3.0       wheel\n",
      "SQLAlchemy           1.4.32      1.4.34      wheel\n",
      "tables               3.6.1       3.7.0       wheel\n",
      "TBB                  0.2         2021.5.2    wheel\n",
      "terminado            0.13.1      0.13.3      wheel\n",
      "testpath             0.5.0       0.6.0       wheel\n",
      "textdistance         4.2.1       4.2.2       wheel\n",
      "threadpoolctl        2.2.0       3.1.0       wheel\n",
      "tifffile             2021.7.2    2022.3.25   wheel\n",
      "tqdm                 4.63.0      4.63.1      wheel\n",
      "typed-ast            1.4.3       1.5.2       wheel\n",
      "Unidecode            1.3.2       1.3.4       wheel\n",
      "urllib3              1.26.8      1.26.9      wheel\n",
      "watchdog             2.1.6       2.1.7       wheel\n",
      "websocket-client     1.3.1       1.3.2       wheel\n",
      "Werkzeug             2.0.3       2.1.1       wheel\n",
      "widgetsnbextension   3.5.2       3.6.0       wheel\n",
      "wrapt                1.12.1      1.14.0      wheel\n",
      "XlsxWriter           3.0.2       3.0.3       wheel\n",
      "xlwings              0.24.9      0.27.5      wheel\n",
      "yapf                 0.31.0      0.32.0      wheel\n",
      "yfinance             0.1.63      0.1.70      wheel\n",
      "zict                 2.0.0       2.1.0       wheel\n",
      "Note: you may need to restart the kernel to use updated packages.\n"
     ]
    }
   ],
   "source": [
    "pip list --outdated"
   ]
  },
  {
   "cell_type": "code",
   "execution_count": 83,
   "id": "00507261",
   "metadata": {},
   "outputs": [],
   "source": [
    "import pandas as pd\n",
    "import numpy as np\n",
    "import matplotlib.pyplot as plt\n",
    "import re\n",
    "from nltk.corpus import stopwords\n",
    "from nltk.stem import SnowballStemmer\n",
    "from nltk.stem.wordnet import WordNetLemmatizer\n",
    "from sklearn.model_selection import train_test_split\n",
    "from sklearn.metrics import classification_report"
   ]
  },
  {
   "cell_type": "code",
   "execution_count": 84,
   "id": "57dd75a6",
   "metadata": {},
   "outputs": [],
   "source": [
    "df = pd.read_csv('train.csv')\n",
    "stck_df_test = pd.read_csv('test.csv')"
   ]
  },
  {
   "cell_type": "code",
   "execution_count": 85,
   "id": "d74f3b9b",
   "metadata": {},
   "outputs": [
    {
     "data": {
      "text/html": [
       "<div>\n",
       "<style scoped>\n",
       "    .dataframe tbody tr th:only-of-type {\n",
       "        vertical-align: middle;\n",
       "    }\n",
       "\n",
       "    .dataframe tbody tr th {\n",
       "        vertical-align: top;\n",
       "    }\n",
       "\n",
       "    .dataframe thead th {\n",
       "        text-align: right;\n",
       "    }\n",
       "</style>\n",
       "<table border=\"1\" class=\"dataframe\">\n",
       "  <thead>\n",
       "    <tr style=\"text-align: right;\">\n",
       "      <th></th>\n",
       "      <th>Id</th>\n",
       "      <th>Closing Status</th>\n",
       "      <th>Headline1</th>\n",
       "      <th>Headline2</th>\n",
       "      <th>Headline3</th>\n",
       "      <th>Headline4</th>\n",
       "      <th>Headline5</th>\n",
       "      <th>Headline6</th>\n",
       "      <th>Headline7</th>\n",
       "      <th>Headline8</th>\n",
       "      <th>...</th>\n",
       "      <th>Headline16</th>\n",
       "      <th>Headline17</th>\n",
       "      <th>Headline18</th>\n",
       "      <th>Headline19</th>\n",
       "      <th>Headline20</th>\n",
       "      <th>Headline21</th>\n",
       "      <th>Headline22</th>\n",
       "      <th>Headline23</th>\n",
       "      <th>Headline24</th>\n",
       "      <th>Headline25</th>\n",
       "    </tr>\n",
       "  </thead>\n",
       "  <tbody>\n",
       "    <tr>\n",
       "      <th>0</th>\n",
       "      <td>0</td>\n",
       "      <td>1</td>\n",
       "      <td>Milan court convicts Berlusconi of tax evasion...</td>\n",
       "      <td>Suicide bomber kills 20 in Afghan mosque</td>\n",
       "      <td>After the biggest double dip since WW2, the UK...</td>\n",
       "      <td>Billions in Hidden Riches for Family of Chines...</td>\n",
       "      <td>Former Italian Prime Minister Silvio Berluscon...</td>\n",
       "      <td>Through Her Sister's Eyes -- \"This seemingly m...</td>\n",
       "      <td>UN to investigate civilian deaths from US dron...</td>\n",
       "      <td>Ben Goldacre: Closed drug trials leave patient...</td>\n",
       "      <td>...</td>\n",
       "      <td>Britain rejects US request to use UK bases in ...</td>\n",
       "      <td>New York Times blocked in China over Wen Jiaba...</td>\n",
       "      <td>What Are the Odds That Israel Just Attacked Su...</td>\n",
       "      <td>Opinion poll shows 43% of French people see Is...</td>\n",
       "      <td>New York Times blocked by China after report o...</td>\n",
       "      <td>The British government opposed the establishme...</td>\n",
       "      <td>Ashok Khemka, a bureaucrat in India, has been ...</td>\n",
       "      <td>Malala's parents overjoyed after first visit i...</td>\n",
       "      <td>A victory for self-defence, but only a partial...</td>\n",
       "      <td>British ExxonMobil oil chief 'assassinated' in...</td>\n",
       "    </tr>\n",
       "    <tr>\n",
       "      <th>1</th>\n",
       "      <td>1</td>\n",
       "      <td>0</td>\n",
       "      <td>Iraq Police Training: $200 Million Wasted On P...</td>\n",
       "      <td>Pussy Riot: will Vladimir Putin regret taking ...</td>\n",
       "      <td>Syrian troops vow to 'purge' Aleppo of rebels ...</td>\n",
       "      <td>Four Iranians Sentenced to Death Over $2.3 Bln...</td>\n",
       "      <td>Christchurch, New Zealand rebuild plans unveil...</td>\n",
       "      <td>Deadly Ebola Virus Reaches Ugandan Capital</td>\n",
       "      <td>Cat electrocuted; East Delhi goes powerless fo...</td>\n",
       "      <td>In Israel, at least 7 people have set themselv...</td>\n",
       "      <td>...</td>\n",
       "      <td>Britain just signed a 25 year contract to let ...</td>\n",
       "      <td>Air pollution turns Beijing into \"Greyjing\"</td>\n",
       "      <td>Israeli troops kill Palestinian at checkpoint</td>\n",
       "      <td>Couple stoned to death in Mali for having sex ...</td>\n",
       "      <td>Two Journalists Freed by Syrian Rebels After W...</td>\n",
       "      <td>Across Latin America, leaders appalled by the ...</td>\n",
       "      <td>Germany Breaks 25% Renewable Energy Barrier -...</td>\n",
       "      <td>Uruguay Considers Legalizing Marijuana to Stop...</td>\n",
       "      <td>Beijing's Real Olympic Hero: Meet Ji Sizun, im...</td>\n",
       "      <td>Philippines birth control: Filipinos want it, ...</td>\n",
       "    </tr>\n",
       "    <tr>\n",
       "      <th>2</th>\n",
       "      <td>2</td>\n",
       "      <td>0</td>\n",
       "      <td>Al Shabaab kidnaps, interrogates new Somali mi...</td>\n",
       "      <td>The 'For Neville' email: two words that could ...</td>\n",
       "      <td>Explosion rocks Norwegian PM's office</td>\n",
       "      <td>Speaker of The House says UK \"parliament has r...</td>\n",
       "      <td>James Murdoch knew of phone hacking, former Ne...</td>\n",
       "      <td>Shooting at Norwegian Social Democratic Youth ...</td>\n",
       "      <td>UN report claims North Korea and Iran are exch...</td>\n",
       "      <td>Greece defaults... selectively.</td>\n",
       "      <td>...</td>\n",
       "      <td>East Africa's famine: Millions of human beings...</td>\n",
       "      <td>Egypt's military rulers ban foreign election o...</td>\n",
       "      <td>Large explosion in Oslo at Prime ministers off...</td>\n",
       "      <td>A whole block just exploded in Oslo, Norway.  ...</td>\n",
       "      <td>James Murdoch Accused of Lying to Parliament</td>\n",
       "      <td>Eleven killed during mass protests in Syria\\n\\n</td>\n",
       "      <td>Huge explosion in downtown Oslo</td>\n",
       "      <td>Indian Government Blocks Leading File-Sharing ...</td>\n",
       "      <td>The Bin Laden Vaccine: Yes, vaccinations are a...</td>\n",
       "      <td>Posted last week, but buried beneath the bigge...</td>\n",
       "    </tr>\n",
       "    <tr>\n",
       "      <th>3</th>\n",
       "      <td>3</td>\n",
       "      <td>1</td>\n",
       "      <td>Sweden With Entitlements &amp;amp; Health Care Sur...</td>\n",
       "      <td>Military and medical experts call on doctors t...</td>\n",
       "      <td>Syria's only casino has been shut down and a b...</td>\n",
       "      <td>Japan is \"very sorry\" about irradiating the oc...</td>\n",
       "      <td>First mention in a Chinese newspaper of the de...</td>\n",
       "      <td>In post-Mubarak Egypt, abductions of women hav...</td>\n",
       "      <td>Gadhafi, in letter, asks Obama to end air stri...</td>\n",
       "      <td>Tokyo Electric Power Company \"called the initi...</td>\n",
       "      <td>...</td>\n",
       "      <td>The cop who pushed Ian Tomlinson to the ground...</td>\n",
       "      <td>NHK: Radioactivity at Fukushima Daiichi No. 1-...</td>\n",
       "      <td>Ai Weiwei's detention suggests the bad old day...</td>\n",
       "      <td>75 Year old Georgian Woman shuts down Armenian...</td>\n",
       "      <td>English surgeons protest long wait times for m...</td>\n",
       "      <td>\"Academic researchers worldwide, including vet...</td>\n",
       "      <td>Julian Assange: \"WikiLeaks is the intelligence...</td>\n",
       "      <td>Sudan accuses Israel over Port Sudan air strik...</td>\n",
       "      <td>New Israeli-Palestinian peace proposal present...</td>\n",
       "      <td>International Energy Agency says peak oil happ...</td>\n",
       "    </tr>\n",
       "    <tr>\n",
       "      <th>4</th>\n",
       "      <td>4</td>\n",
       "      <td>0</td>\n",
       "      <td>FIFA has banned Croatian defender Josip Simuni...</td>\n",
       "      <td>Devyani arrest: India asks all US diplomats to...</td>\n",
       "      <td>Sochi Olympic critics get terrorist treatment ...</td>\n",
       "      <td>London Bankers Expect 44% Bonus Increase, Surv...</td>\n",
       "      <td>USS Ronald Reagan sailors report cancers after...</td>\n",
       "      <td>Saudi Arabia: New law to set marital age of co...</td>\n",
       "      <td>India on Tuesday retaliated strongly to the ar...</td>\n",
       "      <td>New Snowden leak - Norways secret surveillance...</td>\n",
       "      <td>...</td>\n",
       "      <td>Thousands of Germans get warning letters askin...</td>\n",
       "      <td>The rape victim that India forgot - Bereft of ...</td>\n",
       "      <td>Pirate Bay founder's prison conditions improve...</td>\n",
       "      <td>Pope Francis blesses 'Jesus the Homeless' scul...</td>\n",
       "      <td>It's not an act: Kim Jong Uns former classmate...</td>\n",
       "      <td>After deleting 99% of it's state news archive ...</td>\n",
       "      <td>UN declares that the right to privacy, includi...</td>\n",
       "      <td>Matthew Perry gets in heated, televised argume...</td>\n",
       "      <td>Snowden offers to help Brazil investigate NSA ...</td>\n",
       "      <td>No Amnesty For Edward Snowden, White House Say...</td>\n",
       "    </tr>\n",
       "  </tbody>\n",
       "</table>\n",
       "<p>5 rows × 27 columns</p>\n",
       "</div>"
      ],
      "text/plain": [
       "   Id  Closing Status                                          Headline1  \\\n",
       "0   0               1  Milan court convicts Berlusconi of tax evasion...   \n",
       "1   1               0  Iraq Police Training: $200 Million Wasted On P...   \n",
       "2   2               0  Al Shabaab kidnaps, interrogates new Somali mi...   \n",
       "3   3               1  Sweden With Entitlements &amp; Health Care Sur...   \n",
       "4   4               0  FIFA has banned Croatian defender Josip Simuni...   \n",
       "\n",
       "                                           Headline2  \\\n",
       "0          Suicide bomber kills 20 in Afghan mosque    \n",
       "1  Pussy Riot: will Vladimir Putin regret taking ...   \n",
       "2  The 'For Neville' email: two words that could ...   \n",
       "3  Military and medical experts call on doctors t...   \n",
       "4  Devyani arrest: India asks all US diplomats to...   \n",
       "\n",
       "                                           Headline3  \\\n",
       "0  After the biggest double dip since WW2, the UK...   \n",
       "1  Syrian troops vow to 'purge' Aleppo of rebels ...   \n",
       "2              Explosion rocks Norwegian PM's office   \n",
       "3  Syria's only casino has been shut down and a b...   \n",
       "4  Sochi Olympic critics get terrorist treatment ...   \n",
       "\n",
       "                                           Headline4  \\\n",
       "0  Billions in Hidden Riches for Family of Chines...   \n",
       "1  Four Iranians Sentenced to Death Over $2.3 Bln...   \n",
       "2  Speaker of The House says UK \"parliament has r...   \n",
       "3  Japan is \"very sorry\" about irradiating the oc...   \n",
       "4  London Bankers Expect 44% Bonus Increase, Surv...   \n",
       "\n",
       "                                           Headline5  \\\n",
       "0  Former Italian Prime Minister Silvio Berluscon...   \n",
       "1  Christchurch, New Zealand rebuild plans unveil...   \n",
       "2  James Murdoch knew of phone hacking, former Ne...   \n",
       "3  First mention in a Chinese newspaper of the de...   \n",
       "4  USS Ronald Reagan sailors report cancers after...   \n",
       "\n",
       "                                           Headline6  \\\n",
       "0  Through Her Sister's Eyes -- \"This seemingly m...   \n",
       "1         Deadly Ebola Virus Reaches Ugandan Capital   \n",
       "2  Shooting at Norwegian Social Democratic Youth ...   \n",
       "3  In post-Mubarak Egypt, abductions of women hav...   \n",
       "4  Saudi Arabia: New law to set marital age of co...   \n",
       "\n",
       "                                           Headline7  \\\n",
       "0  UN to investigate civilian deaths from US dron...   \n",
       "1  Cat electrocuted; East Delhi goes powerless fo...   \n",
       "2  UN report claims North Korea and Iran are exch...   \n",
       "3  Gadhafi, in letter, asks Obama to end air stri...   \n",
       "4  India on Tuesday retaliated strongly to the ar...   \n",
       "\n",
       "                                           Headline8  ...  \\\n",
       "0  Ben Goldacre: Closed drug trials leave patient...  ...   \n",
       "1  In Israel, at least 7 people have set themselv...  ...   \n",
       "2                   Greece defaults... selectively.   ...   \n",
       "3  Tokyo Electric Power Company \"called the initi...  ...   \n",
       "4  New Snowden leak - Norways secret surveillance...  ...   \n",
       "\n",
       "                                          Headline16  \\\n",
       "0  Britain rejects US request to use UK bases in ...   \n",
       "1  Britain just signed a 25 year contract to let ...   \n",
       "2  East Africa's famine: Millions of human beings...   \n",
       "3  The cop who pushed Ian Tomlinson to the ground...   \n",
       "4  Thousands of Germans get warning letters askin...   \n",
       "\n",
       "                                          Headline17  \\\n",
       "0  New York Times blocked in China over Wen Jiaba...   \n",
       "1        Air pollution turns Beijing into \"Greyjing\"   \n",
       "2  Egypt's military rulers ban foreign election o...   \n",
       "3  NHK: Radioactivity at Fukushima Daiichi No. 1-...   \n",
       "4  The rape victim that India forgot - Bereft of ...   \n",
       "\n",
       "                                          Headline18  \\\n",
       "0  What Are the Odds That Israel Just Attacked Su...   \n",
       "1      Israeli troops kill Palestinian at checkpoint   \n",
       "2  Large explosion in Oslo at Prime ministers off...   \n",
       "3  Ai Weiwei's detention suggests the bad old day...   \n",
       "4  Pirate Bay founder's prison conditions improve...   \n",
       "\n",
       "                                          Headline19  \\\n",
       "0  Opinion poll shows 43% of French people see Is...   \n",
       "1  Couple stoned to death in Mali for having sex ...   \n",
       "2  A whole block just exploded in Oslo, Norway.  ...   \n",
       "3  75 Year old Georgian Woman shuts down Armenian...   \n",
       "4  Pope Francis blesses 'Jesus the Homeless' scul...   \n",
       "\n",
       "                                          Headline20  \\\n",
       "0  New York Times blocked by China after report o...   \n",
       "1  Two Journalists Freed by Syrian Rebels After W...   \n",
       "2       James Murdoch Accused of Lying to Parliament   \n",
       "3  English surgeons protest long wait times for m...   \n",
       "4  It's not an act: Kim Jong Uns former classmate...   \n",
       "\n",
       "                                          Headline21  \\\n",
       "0  The British government opposed the establishme...   \n",
       "1  Across Latin America, leaders appalled by the ...   \n",
       "2    Eleven killed during mass protests in Syria\\n\\n   \n",
       "3  \"Academic researchers worldwide, including vet...   \n",
       "4  After deleting 99% of it's state news archive ...   \n",
       "\n",
       "                                          Headline22  \\\n",
       "0  Ashok Khemka, a bureaucrat in India, has been ...   \n",
       "1   Germany Breaks 25% Renewable Energy Barrier -...   \n",
       "2                    Huge explosion in downtown Oslo   \n",
       "3  Julian Assange: \"WikiLeaks is the intelligence...   \n",
       "4  UN declares that the right to privacy, includi...   \n",
       "\n",
       "                                          Headline23  \\\n",
       "0  Malala's parents overjoyed after first visit i...   \n",
       "1  Uruguay Considers Legalizing Marijuana to Stop...   \n",
       "2  Indian Government Blocks Leading File-Sharing ...   \n",
       "3  Sudan accuses Israel over Port Sudan air strik...   \n",
       "4  Matthew Perry gets in heated, televised argume...   \n",
       "\n",
       "                                          Headline24  \\\n",
       "0  A victory for self-defence, but only a partial...   \n",
       "1  Beijing's Real Olympic Hero: Meet Ji Sizun, im...   \n",
       "2  The Bin Laden Vaccine: Yes, vaccinations are a...   \n",
       "3  New Israeli-Palestinian peace proposal present...   \n",
       "4  Snowden offers to help Brazil investigate NSA ...   \n",
       "\n",
       "                                          Headline25  \n",
       "0  British ExxonMobil oil chief 'assassinated' in...  \n",
       "1  Philippines birth control: Filipinos want it, ...  \n",
       "2  Posted last week, but buried beneath the bigge...  \n",
       "3  International Energy Agency says peak oil happ...  \n",
       "4  No Amnesty For Edward Snowden, White House Say...  \n",
       "\n",
       "[5 rows x 27 columns]"
      ]
     },
     "execution_count": 85,
     "metadata": {},
     "output_type": "execute_result"
    }
   ],
   "source": [
    "df.head()"
   ]
  },
  {
   "cell_type": "code",
   "execution_count": 86,
   "id": "c53277d4",
   "metadata": {},
   "outputs": [
    {
     "name": "stdout",
     "output_type": "stream",
     "text": [
      "<class 'pandas.core.frame.DataFrame'>\n",
      "RangeIndex: 1690 entries, 0 to 1689\n",
      "Data columns (total 27 columns):\n",
      " #   Column          Non-Null Count  Dtype \n",
      "---  ------          --------------  ----- \n",
      " 0   Id              1690 non-null   int64 \n",
      " 1   Closing Status  1690 non-null   int64 \n",
      " 2   Headline1       1690 non-null   object\n",
      " 3   Headline2       1690 non-null   object\n",
      " 4   Headline3       1687 non-null   object\n",
      " 5   Headline4       1690 non-null   object\n",
      " 6   Headline5       1690 non-null   object\n",
      " 7   Headline6       1690 non-null   object\n",
      " 8   Headline7       1690 non-null   object\n",
      " 9   Headline8       1690 non-null   object\n",
      " 10  Headline9       1690 non-null   object\n",
      " 11  Headline10      1690 non-null   object\n",
      " 12  Headline11      1687 non-null   object\n",
      " 13  Headline12      1690 non-null   object\n",
      " 14  Headline13      1690 non-null   object\n",
      " 15  Headline14      1690 non-null   object\n",
      " 16  Headline15      1690 non-null   object\n",
      " 17  Headline16      1690 non-null   object\n",
      " 18  Headline17      1690 non-null   object\n",
      " 19  Headline18      1690 non-null   object\n",
      " 20  Headline19      1690 non-null   object\n",
      " 21  Headline20      1690 non-null   object\n",
      " 22  Headline21      1690 non-null   object\n",
      " 23  Headline22      1690 non-null   object\n",
      " 24  Headline23      1689 non-null   object\n",
      " 25  Headline24      1690 non-null   object\n",
      " 26  Headline25      1690 non-null   object\n",
      "dtypes: int64(2), object(25)\n",
      "memory usage: 356.6+ KB\n"
     ]
    }
   ],
   "source": [
    "df.info()"
   ]
  },
  {
   "cell_type": "code",
   "execution_count": 87,
   "id": "6436aff4",
   "metadata": {},
   "outputs": [
    {
     "data": {
      "text/html": [
       "<div>\n",
       "<style scoped>\n",
       "    .dataframe tbody tr th:only-of-type {\n",
       "        vertical-align: middle;\n",
       "    }\n",
       "\n",
       "    .dataframe tbody tr th {\n",
       "        vertical-align: top;\n",
       "    }\n",
       "\n",
       "    .dataframe thead th {\n",
       "        text-align: right;\n",
       "    }\n",
       "</style>\n",
       "<table border=\"1\" class=\"dataframe\">\n",
       "  <thead>\n",
       "    <tr style=\"text-align: right;\">\n",
       "      <th></th>\n",
       "      <th>Id</th>\n",
       "      <th>Headline1</th>\n",
       "      <th>Headline2</th>\n",
       "      <th>Headline3</th>\n",
       "      <th>Headline4</th>\n",
       "      <th>Headline5</th>\n",
       "      <th>Headline6</th>\n",
       "      <th>Headline7</th>\n",
       "      <th>Headline8</th>\n",
       "      <th>Headline9</th>\n",
       "      <th>...</th>\n",
       "      <th>Headline16</th>\n",
       "      <th>Headline17</th>\n",
       "      <th>Headline18</th>\n",
       "      <th>Headline19</th>\n",
       "      <th>Headline20</th>\n",
       "      <th>Headline21</th>\n",
       "      <th>Headline22</th>\n",
       "      <th>Headline23</th>\n",
       "      <th>Headline24</th>\n",
       "      <th>Headline25</th>\n",
       "    </tr>\n",
       "  </thead>\n",
       "  <tbody>\n",
       "    <tr>\n",
       "      <th>0</th>\n",
       "      <td>0</td>\n",
       "      <td>China cyber probes show electronic warfare foc...</td>\n",
       "      <td>More pupils than expected in 'illegal schools'...</td>\n",
       "      <td>Police sealed off a hotel in Ankara on Sunday,...</td>\n",
       "      <td>Car fires turning into a Dutch plague, 100s to...</td>\n",
       "      <td>Magnitude 5.6 / Shindo 5 earthquake shakes Iba...</td>\n",
       "      <td>Police in Colombia seize more than 8 tons of c...</td>\n",
       "      <td>Google (GOOGL.O) faces a record antitrust fine...</td>\n",
       "      <td>China waging war against ancient superstitions...</td>\n",
       "      <td>Erdoan pictured as Hitler on Turkish Embassy i...</td>\n",
       "      <td>...</td>\n",
       "      <td>An online al Qaeda magazine is calling for jih...</td>\n",
       "      <td>North Korea releases Russian yacht - detention...</td>\n",
       "      <td>Duterte vows to kill criminals and reintroduce...</td>\n",
       "      <td>Venezuelan President decrees emergency, seizes...</td>\n",
       "      <td>Luxembourg prosecutors seek jail time for whis...</td>\n",
       "      <td>Al Qaeda Turns to Syria, With a Plan to Challe...</td>\n",
       "      <td>Iran is arresting models who pose without head...</td>\n",
       "      <td>Scientists Seek To Bring Dead Brains Back To Life</td>\n",
       "      <td>Former CIA agent admits involvment in Nelson M...</td>\n",
       "      <td>New move to impeach Tony Blair over Iraq War g...</td>\n",
       "    </tr>\n",
       "    <tr>\n",
       "      <th>1</th>\n",
       "      <td>1</td>\n",
       "      <td>b'Mosab Hassan Yousef, son of Hamas leader, be...</td>\n",
       "      <td>b\"Gold Farming Comparable In $$ To India's Ent...</td>\n",
       "      <td>b\"UK child protection database 'will be used t...</td>\n",
       "      <td>b'The Puppet Masters Behind Georgia President ...</td>\n",
       "      <td>b'2008 Globally the Coldest Year of the Centur...</td>\n",
       "      <td>b\"Iceland's Armed Forces Unveils Mecha-Bjrk [P...</td>\n",
       "      <td>b'Victims Of \"Nigerian Scams\" Giving Nigeria A...</td>\n",
       "      <td>b'Refugee camp in Darfur under direct attack'</td>\n",
       "      <td>b'Israel claims allowing an aid ship to reach ...</td>\n",
       "      <td>...</td>\n",
       "      <td>b\"Flashback: Naked, drunk, surrounded by sex t...</td>\n",
       "      <td>b'Let\\'s rewrite history :  A new historical c...</td>\n",
       "      <td>b\"SHOCK! Amsterdam's Smoking Ban Doesn't Apply...</td>\n",
       "      <td>b'Pedophile attempts to assault and kidnap chi...</td>\n",
       "      <td>b'Swiss engineers, a nuclear black market and ...</td>\n",
       "      <td>b'Russia accused of violating ceasefire deal'</td>\n",
       "      <td>b\"N Korea's Kim died in 2003; replaced by look...</td>\n",
       "      <td>b'Four killed in Kashmir protests'</td>\n",
       "      <td>b'Iraqi Teenage Girl Wearing Explosives Turns ...</td>\n",
       "      <td>b'Wealthy Mexicans, terrified of soaring kidna...</td>\n",
       "    </tr>\n",
       "    <tr>\n",
       "      <th>2</th>\n",
       "      <td>2</td>\n",
       "      <td>U.S. warships accompany British commercial ves...</td>\n",
       "      <td>UN calls for suspension of TTIP talks over fea...</td>\n",
       "      <td>Netanyahu: Israel will fight racism - Ethiopia...</td>\n",
       "      <td>Boko Haram stoned captive girls to death as re...</td>\n",
       "      <td>Sexting could see teenagers branded as sex off...</td>\n",
       "      <td>The lower house of Frances Parliament overwhel...</td>\n",
       "      <td>Jewish students to protest violence by speakin...</td>\n",
       "      <td>UN: More than 200 young women rescued from Bok...</td>\n",
       "      <td>Canada's Trudeau vows to cut middle-class taxe...</td>\n",
       "      <td>...</td>\n",
       "      <td>Prime Minister of Singapore shares his C++ cod...</td>\n",
       "      <td>South African universities join academic boyco...</td>\n",
       "      <td>The world needs to triple its investments in c...</td>\n",
       "      <td>TransCanada Keystone 1 Pipeline Suffered Major...</td>\n",
       "      <td>Fertilizer, Also Suited for Bombs, Flows to IS...</td>\n",
       "      <td>Jihadists destroy proposed world heritage site...</td>\n",
       "      <td>Qatar detained German reporters investigating ...</td>\n",
       "      <td>China overtakes Mexico as top sender of immigr...</td>\n",
       "      <td>Philippines' Most Wanted Terrorist Killed by B...</td>\n",
       "      <td>Canada poised to pass anti-terror legislation ...</td>\n",
       "    </tr>\n",
       "    <tr>\n",
       "      <th>3</th>\n",
       "      <td>3</td>\n",
       "      <td>400,000-year-old fossils from Spain provide ea...</td>\n",
       "      <td>Blood Lions documentary exposes controversial ...</td>\n",
       "      <td>Saudi Arabia 'planning Nato-like military alli...</td>\n",
       "      <td>Pakistan cricket captain Shahid Afridi accused...</td>\n",
       "      <td>Saudi Arabia-led coalition kills 41 civilians ...</td>\n",
       "      <td>NSW, Australia: Anti-coal seam gas protesters ...</td>\n",
       "      <td>Belgian police hunt gunman after Brussels anti...</td>\n",
       "      <td>NASA will intentionally start a fire on a carg...</td>\n",
       "      <td>North Korea Sentences US Tourist to 15 Years i...</td>\n",
       "      <td>...</td>\n",
       "      <td>Denmark world's happiest country, Burundi leas...</td>\n",
       "      <td>Rescuers: Female suicide bombers kill 22 at Ni...</td>\n",
       "      <td>A powerful Syrian Kurdish political party is p...</td>\n",
       "      <td>The world's first solar airport no longer pays...</td>\n",
       "      <td>More than 40 civilians killed in Yemen market ...</td>\n",
       "      <td>Canadian woman who successfully sued province ...</td>\n",
       "      <td>FIFA admits to World Cup hosting bribes, asks ...</td>\n",
       "      <td>Brazil's ex-president Luiz Inacio Lula da Silv...</td>\n",
       "      <td>Netherlands votes to ban weapons exports to Sa...</td>\n",
       "      <td>Argentina sinks Chinese vessel, cites illegal ...</td>\n",
       "    </tr>\n",
       "    <tr>\n",
       "      <th>4</th>\n",
       "      <td>4</td>\n",
       "      <td>GoDaddy Pulls Lavabit's Security Creds Because...</td>\n",
       "      <td>Thai Police Are Shocked, Shocked After Rihanna...</td>\n",
       "      <td>Lavabit comes back online for 96 hours to allo...</td>\n",
       "      <td>Snowden leaks: David Cameron urges committee t...</td>\n",
       "      <td>Malala Yousafzai to get honorary Canadian citi...</td>\n",
       "      <td>BP oil spill: Ex-Halliburton manager pleads gu...</td>\n",
       "      <td>Dutch diplomat assaulted in Russia</td>\n",
       "      <td>93 dead as 7.2 magnitude quake hits Philippine...</td>\n",
       "      <td>Divers have recovered what may be a 570kg chun...</td>\n",
       "      <td>...</td>\n",
       "      <td>Iraq War death toll near 500K, new study estim...</td>\n",
       "      <td>Brazilian government to ditch Microsoft in fav...</td>\n",
       "      <td>Iraq war claimed half a million lives, peer-re...</td>\n",
       "      <td>Brazilian judge rules in favour of farmers aga...</td>\n",
       "      <td>The Canadian Government Is Spying on Behalf of...</td>\n",
       "      <td>The number of cockroach farms in China is growing</td>\n",
       "      <td>France finds Church of Scientology guilty of \"...</td>\n",
       "      <td>\"I just want to have a future.\" Anger in Franc...</td>\n",
       "      <td>Using military-grade helicopters, night-vision...</td>\n",
       "      <td>Jihadi Work Accident: Two Al-Shabaab Suicide B...</td>\n",
       "    </tr>\n",
       "  </tbody>\n",
       "</table>\n",
       "<p>5 rows × 26 columns</p>\n",
       "</div>"
      ],
      "text/plain": [
       "   Id                                          Headline1  \\\n",
       "0   0  China cyber probes show electronic warfare foc...   \n",
       "1   1  b'Mosab Hassan Yousef, son of Hamas leader, be...   \n",
       "2   2  U.S. warships accompany British commercial ves...   \n",
       "3   3  400,000-year-old fossils from Spain provide ea...   \n",
       "4   4  GoDaddy Pulls Lavabit's Security Creds Because...   \n",
       "\n",
       "                                           Headline2  \\\n",
       "0  More pupils than expected in 'illegal schools'...   \n",
       "1  b\"Gold Farming Comparable In $$ To India's Ent...   \n",
       "2  UN calls for suspension of TTIP talks over fea...   \n",
       "3  Blood Lions documentary exposes controversial ...   \n",
       "4  Thai Police Are Shocked, Shocked After Rihanna...   \n",
       "\n",
       "                                           Headline3  \\\n",
       "0  Police sealed off a hotel in Ankara on Sunday,...   \n",
       "1  b\"UK child protection database 'will be used t...   \n",
       "2  Netanyahu: Israel will fight racism - Ethiopia...   \n",
       "3  Saudi Arabia 'planning Nato-like military alli...   \n",
       "4  Lavabit comes back online for 96 hours to allo...   \n",
       "\n",
       "                                           Headline4  \\\n",
       "0  Car fires turning into a Dutch plague, 100s to...   \n",
       "1  b'The Puppet Masters Behind Georgia President ...   \n",
       "2  Boko Haram stoned captive girls to death as re...   \n",
       "3  Pakistan cricket captain Shahid Afridi accused...   \n",
       "4  Snowden leaks: David Cameron urges committee t...   \n",
       "\n",
       "                                           Headline5  \\\n",
       "0  Magnitude 5.6 / Shindo 5 earthquake shakes Iba...   \n",
       "1  b'2008 Globally the Coldest Year of the Centur...   \n",
       "2  Sexting could see teenagers branded as sex off...   \n",
       "3  Saudi Arabia-led coalition kills 41 civilians ...   \n",
       "4  Malala Yousafzai to get honorary Canadian citi...   \n",
       "\n",
       "                                           Headline6  \\\n",
       "0  Police in Colombia seize more than 8 tons of c...   \n",
       "1  b\"Iceland's Armed Forces Unveils Mecha-Bjrk [P...   \n",
       "2  The lower house of Frances Parliament overwhel...   \n",
       "3  NSW, Australia: Anti-coal seam gas protesters ...   \n",
       "4  BP oil spill: Ex-Halliburton manager pleads gu...   \n",
       "\n",
       "                                           Headline7  \\\n",
       "0  Google (GOOGL.O) faces a record antitrust fine...   \n",
       "1  b'Victims Of \"Nigerian Scams\" Giving Nigeria A...   \n",
       "2  Jewish students to protest violence by speakin...   \n",
       "3  Belgian police hunt gunman after Brussels anti...   \n",
       "4                 Dutch diplomat assaulted in Russia   \n",
       "\n",
       "                                           Headline8  \\\n",
       "0  China waging war against ancient superstitions...   \n",
       "1      b'Refugee camp in Darfur under direct attack'   \n",
       "2  UN: More than 200 young women rescued from Bok...   \n",
       "3  NASA will intentionally start a fire on a carg...   \n",
       "4  93 dead as 7.2 magnitude quake hits Philippine...   \n",
       "\n",
       "                                           Headline9  ...  \\\n",
       "0  Erdoan pictured as Hitler on Turkish Embassy i...  ...   \n",
       "1  b'Israel claims allowing an aid ship to reach ...  ...   \n",
       "2  Canada's Trudeau vows to cut middle-class taxe...  ...   \n",
       "3  North Korea Sentences US Tourist to 15 Years i...  ...   \n",
       "4  Divers have recovered what may be a 570kg chun...  ...   \n",
       "\n",
       "                                          Headline16  \\\n",
       "0  An online al Qaeda magazine is calling for jih...   \n",
       "1  b\"Flashback: Naked, drunk, surrounded by sex t...   \n",
       "2  Prime Minister of Singapore shares his C++ cod...   \n",
       "3  Denmark world's happiest country, Burundi leas...   \n",
       "4  Iraq War death toll near 500K, new study estim...   \n",
       "\n",
       "                                          Headline17  \\\n",
       "0  North Korea releases Russian yacht - detention...   \n",
       "1  b'Let\\'s rewrite history :  A new historical c...   \n",
       "2  South African universities join academic boyco...   \n",
       "3  Rescuers: Female suicide bombers kill 22 at Ni...   \n",
       "4  Brazilian government to ditch Microsoft in fav...   \n",
       "\n",
       "                                          Headline18  \\\n",
       "0  Duterte vows to kill criminals and reintroduce...   \n",
       "1  b\"SHOCK! Amsterdam's Smoking Ban Doesn't Apply...   \n",
       "2  The world needs to triple its investments in c...   \n",
       "3  A powerful Syrian Kurdish political party is p...   \n",
       "4  Iraq war claimed half a million lives, peer-re...   \n",
       "\n",
       "                                          Headline19  \\\n",
       "0  Venezuelan President decrees emergency, seizes...   \n",
       "1  b'Pedophile attempts to assault and kidnap chi...   \n",
       "2  TransCanada Keystone 1 Pipeline Suffered Major...   \n",
       "3  The world's first solar airport no longer pays...   \n",
       "4  Brazilian judge rules in favour of farmers aga...   \n",
       "\n",
       "                                          Headline20  \\\n",
       "0  Luxembourg prosecutors seek jail time for whis...   \n",
       "1  b'Swiss engineers, a nuclear black market and ...   \n",
       "2  Fertilizer, Also Suited for Bombs, Flows to IS...   \n",
       "3  More than 40 civilians killed in Yemen market ...   \n",
       "4  The Canadian Government Is Spying on Behalf of...   \n",
       "\n",
       "                                          Headline21  \\\n",
       "0  Al Qaeda Turns to Syria, With a Plan to Challe...   \n",
       "1      b'Russia accused of violating ceasefire deal'   \n",
       "2  Jihadists destroy proposed world heritage site...   \n",
       "3  Canadian woman who successfully sued province ...   \n",
       "4  The number of cockroach farms in China is growing   \n",
       "\n",
       "                                          Headline22  \\\n",
       "0  Iran is arresting models who pose without head...   \n",
       "1  b\"N Korea's Kim died in 2003; replaced by look...   \n",
       "2  Qatar detained German reporters investigating ...   \n",
       "3  FIFA admits to World Cup hosting bribes, asks ...   \n",
       "4  France finds Church of Scientology guilty of \"...   \n",
       "\n",
       "                                          Headline23  \\\n",
       "0  Scientists Seek To Bring Dead Brains Back To Life   \n",
       "1                 b'Four killed in Kashmir protests'   \n",
       "2  China overtakes Mexico as top sender of immigr...   \n",
       "3  Brazil's ex-president Luiz Inacio Lula da Silv...   \n",
       "4  \"I just want to have a future.\" Anger in Franc...   \n",
       "\n",
       "                                          Headline24  \\\n",
       "0  Former CIA agent admits involvment in Nelson M...   \n",
       "1  b'Iraqi Teenage Girl Wearing Explosives Turns ...   \n",
       "2  Philippines' Most Wanted Terrorist Killed by B...   \n",
       "3  Netherlands votes to ban weapons exports to Sa...   \n",
       "4  Using military-grade helicopters, night-vision...   \n",
       "\n",
       "                                          Headline25  \n",
       "0  New move to impeach Tony Blair over Iraq War g...  \n",
       "1  b'Wealthy Mexicans, terrified of soaring kidna...  \n",
       "2  Canada poised to pass anti-terror legislation ...  \n",
       "3  Argentina sinks Chinese vessel, cites illegal ...  \n",
       "4  Jihadi Work Accident: Two Al-Shabaab Suicide B...  \n",
       "\n",
       "[5 rows x 26 columns]"
      ]
     },
     "execution_count": 87,
     "metadata": {},
     "output_type": "execute_result"
    }
   ],
   "source": [
    "stck_df_test.head()"
   ]
  },
  {
   "cell_type": "code",
   "execution_count": 88,
   "id": "cbd47873",
   "metadata": {},
   "outputs": [
    {
     "name": "stdout",
     "output_type": "stream",
     "text": [
      "<class 'pandas.core.frame.DataFrame'>\n",
      "RangeIndex: 299 entries, 0 to 298\n",
      "Data columns (total 26 columns):\n",
      " #   Column      Non-Null Count  Dtype \n",
      "---  ------      --------------  ----- \n",
      " 0   Id          299 non-null    int64 \n",
      " 1   Headline1   299 non-null    object\n",
      " 2   Headline2   299 non-null    object\n",
      " 3   Headline3   299 non-null    object\n",
      " 4   Headline4   299 non-null    object\n",
      " 5   Headline5   299 non-null    object\n",
      " 6   Headline6   299 non-null    object\n",
      " 7   Headline7   299 non-null    object\n",
      " 8   Headline8   299 non-null    object\n",
      " 9   Headline9   299 non-null    object\n",
      " 10  Headline10  299 non-null    object\n",
      " 11  Headline11  299 non-null    object\n",
      " 12  Headline12  299 non-null    object\n",
      " 13  Headline13  299 non-null    object\n",
      " 14  Headline14  299 non-null    object\n",
      " 15  Headline15  299 non-null    object\n",
      " 16  Headline16  299 non-null    object\n",
      " 17  Headline17  299 non-null    object\n",
      " 18  Headline18  299 non-null    object\n",
      " 19  Headline19  299 non-null    object\n",
      " 20  Headline20  299 non-null    object\n",
      " 21  Headline21  299 non-null    object\n",
      " 22  Headline22  299 non-null    object\n",
      " 23  Headline23  299 non-null    object\n",
      " 24  Headline24  299 non-null    object\n",
      " 25  Headline25  299 non-null    object\n",
      "dtypes: int64(1), object(25)\n",
      "memory usage: 60.9+ KB\n"
     ]
    }
   ],
   "source": [
    "stck_df_test.info()"
   ]
  },
  {
   "cell_type": "markdown",
   "id": "fc7946e5",
   "metadata": {},
   "source": [
    "## 1. Data Exploratory Analysis"
   ]
  },
  {
   "cell_type": "code",
   "execution_count": 89,
   "id": "8c878034",
   "metadata": {},
   "outputs": [
    {
     "data": {
      "text/plain": [
       "count    1690.000000\n",
       "mean      844.500000\n",
       "std       488.005294\n",
       "min         0.000000\n",
       "25%       422.250000\n",
       "50%       844.500000\n",
       "75%      1266.750000\n",
       "max      1689.000000\n",
       "Name: Id, dtype: float64"
      ]
     },
     "execution_count": 89,
     "metadata": {},
     "output_type": "execute_result"
    }
   ],
   "source": [
    "df['Id'].describe()"
   ]
  },
  {
   "cell_type": "code",
   "execution_count": 90,
   "id": "65a075bd",
   "metadata": {},
   "outputs": [
    {
     "data": {
      "text/plain": [
       "0"
      ]
     },
     "execution_count": 90,
     "metadata": {},
     "output_type": "execute_result"
    }
   ],
   "source": [
    "df['Id'].isna().sum()"
   ]
  },
  {
   "cell_type": "code",
   "execution_count": 91,
   "id": "5c289580",
   "metadata": {},
   "outputs": [],
   "source": [
    "df[\"Headlines\"] = df[\"Headline1\"] + df[\"Headline2\"] + df[\"Headline3\"] + df[\"Headline4\"] + df[\"Headline5\"] + df[\"Headline6\"] + df[\"Headline7\"] + + df[\"Headline8\"] + df[\"Headline9\"] + df[\"Headline10\"] + df[\"Headline11\"]+ df[\"Headline12\"]+ df[\"Headline13\"]+ df[\"Headline14\"]+ df[\"Headline15\"]+ df[\"Headline16\"]+ df[\"Headline17\"]+ df[\"Headline18\"]+ df[\"Headline19\"]+ df[\"Headline20\"]+ df[\"Headline21\"]+ df[\"Headline22\"]+ df[\"Headline23\"]+ df[\"Headline24\"]+ df[\"Headline25\"]"
   ]
  },
  {
   "cell_type": "code",
   "execution_count": 92,
   "id": "d1c700fc",
   "metadata": {},
   "outputs": [],
   "source": [
    "df  = df[['Headlines', 'Closing Status']].head(10000)"
   ]
  },
  {
   "cell_type": "code",
   "execution_count": 93,
   "id": "4a17f46d",
   "metadata": {},
   "outputs": [
    {
     "data": {
      "text/plain": [
       "{0, 1}"
      ]
     },
     "execution_count": 93,
     "metadata": {},
     "output_type": "execute_result"
    }
   ],
   "source": [
    "set(df['Closing Status'].values)"
   ]
  },
  {
   "cell_type": "code",
   "execution_count": 94,
   "id": "534530e3",
   "metadata": {},
   "outputs": [],
   "source": [
    "df['LabelSentiment'] = df['Closing Status'].apply(lambda x: 1 if x in [1] else 0)"
   ]
  },
  {
   "cell_type": "code",
   "execution_count": 95,
   "id": "b0c4d6f0",
   "metadata": {},
   "outputs": [
    {
     "data": {
      "text/html": [
       "<div>\n",
       "<style scoped>\n",
       "    .dataframe tbody tr th:only-of-type {\n",
       "        vertical-align: middle;\n",
       "    }\n",
       "\n",
       "    .dataframe tbody tr th {\n",
       "        vertical-align: top;\n",
       "    }\n",
       "\n",
       "    .dataframe thead th {\n",
       "        text-align: right;\n",
       "    }\n",
       "</style>\n",
       "<table border=\"1\" class=\"dataframe\">\n",
       "  <thead>\n",
       "    <tr style=\"text-align: right;\">\n",
       "      <th></th>\n",
       "      <th>Headlines</th>\n",
       "      <th>Closing Status</th>\n",
       "      <th>LabelSentiment</th>\n",
       "    </tr>\n",
       "  </thead>\n",
       "  <tbody>\n",
       "    <tr>\n",
       "      <th>0</th>\n",
       "      <td>Milan court convicts Berlusconi of tax evasion...</td>\n",
       "      <td>1</td>\n",
       "      <td>1</td>\n",
       "    </tr>\n",
       "    <tr>\n",
       "      <th>1</th>\n",
       "      <td>Iraq Police Training: $200 Million Wasted On P...</td>\n",
       "      <td>0</td>\n",
       "      <td>0</td>\n",
       "    </tr>\n",
       "    <tr>\n",
       "      <th>2</th>\n",
       "      <td>Al Shabaab kidnaps, interrogates new Somali mi...</td>\n",
       "      <td>0</td>\n",
       "      <td>0</td>\n",
       "    </tr>\n",
       "    <tr>\n",
       "      <th>3</th>\n",
       "      <td>Sweden With Entitlements &amp;amp; Health Care Sur...</td>\n",
       "      <td>1</td>\n",
       "      <td>1</td>\n",
       "    </tr>\n",
       "    <tr>\n",
       "      <th>4</th>\n",
       "      <td>FIFA has banned Croatian defender Josip Simuni...</td>\n",
       "      <td>0</td>\n",
       "      <td>0</td>\n",
       "    </tr>\n",
       "  </tbody>\n",
       "</table>\n",
       "</div>"
      ],
      "text/plain": [
       "                                           Headlines  Closing Status  \\\n",
       "0  Milan court convicts Berlusconi of tax evasion...               1   \n",
       "1  Iraq Police Training: $200 Million Wasted On P...               0   \n",
       "2  Al Shabaab kidnaps, interrogates new Somali mi...               0   \n",
       "3  Sweden With Entitlements &amp; Health Care Sur...               1   \n",
       "4  FIFA has banned Croatian defender Josip Simuni...               0   \n",
       "\n",
       "   LabelSentiment  \n",
       "0               1  \n",
       "1               0  \n",
       "2               0  \n",
       "3               1  \n",
       "4               0  "
      ]
     },
     "execution_count": 95,
     "metadata": {},
     "output_type": "execute_result"
    }
   ],
   "source": [
    "df.head()"
   ]
  },
  {
   "cell_type": "code",
   "execution_count": 176,
   "id": "5622ab71",
   "metadata": {},
   "outputs": [
    {
     "data": {
      "text/plain": [
       "<AxesSubplot:>"
      ]
     },
     "execution_count": 176,
     "metadata": {},
     "output_type": "execute_result"
    },
    {
     "data": {
      "image/png": "[encoded data removed]",
      "text/plain": [
       "<Figure size 432x288 with 1 Axes>"
      ]
     },
     "metadata": {
      "needs_background": "light"
     },
     "output_type": "display_data"
    }
   ],
   "source": [
    "df['Closing Status'].hist()"
   ]
  },
  {
   "cell_type": "markdown",
   "id": "db5d3904",
   "metadata": {},
   "source": [
    "### Word Count"
   ]
  },
  {
   "cell_type": "code",
   "execution_count": 97,
   "id": "c9843880",
   "metadata": {},
   "outputs": [
    {
     "data": {
      "text/html": [
       "<div>\n",
       "<style scoped>\n",
       "    .dataframe tbody tr th:only-of-type {\n",
       "        vertical-align: middle;\n",
       "    }\n",
       "\n",
       "    .dataframe tbody tr th {\n",
       "        vertical-align: top;\n",
       "    }\n",
       "\n",
       "    .dataframe thead th {\n",
       "        text-align: right;\n",
       "    }\n",
       "</style>\n",
       "<table border=\"1\" class=\"dataframe\">\n",
       "  <thead>\n",
       "    <tr style=\"text-align: right;\">\n",
       "      <th></th>\n",
       "      <th>Headlines</th>\n",
       "      <th>word_count</th>\n",
       "    </tr>\n",
       "  </thead>\n",
       "  <tbody>\n",
       "    <tr>\n",
       "      <th>0</th>\n",
       "      <td>Milan court convicts Berlusconi of tax evasion...</td>\n",
       "      <td>577</td>\n",
       "    </tr>\n",
       "    <tr>\n",
       "      <th>1</th>\n",
       "      <td>Iraq Police Training: $200 Million Wasted On P...</td>\n",
       "      <td>488</td>\n",
       "    </tr>\n",
       "    <tr>\n",
       "      <th>2</th>\n",
       "      <td>Al Shabaab kidnaps, interrogates new Somali mi...</td>\n",
       "      <td>288</td>\n",
       "    </tr>\n",
       "    <tr>\n",
       "      <th>3</th>\n",
       "      <td>Sweden With Entitlements &amp;amp; Health Care Sur...</td>\n",
       "      <td>519</td>\n",
       "    </tr>\n",
       "    <tr>\n",
       "      <th>4</th>\n",
       "      <td>FIFA has banned Croatian defender Josip Simuni...</td>\n",
       "      <td>523</td>\n",
       "    </tr>\n",
       "  </tbody>\n",
       "</table>\n",
       "</div>"
      ],
      "text/plain": [
       "                                           Headlines  word_count\n",
       "0  Milan court convicts Berlusconi of tax evasion...         577\n",
       "1  Iraq Police Training: $200 Million Wasted On P...         488\n",
       "2  Al Shabaab kidnaps, interrogates new Somali mi...         288\n",
       "3  Sweden With Entitlements &amp; Health Care Sur...         519\n",
       "4  FIFA has banned Croatian defender Josip Simuni...         523"
      ]
     },
     "execution_count": 97,
     "metadata": {},
     "output_type": "execute_result"
    }
   ],
   "source": [
    "df['word_count']  = df['Headlines'].apply(lambda x: len(str(x).split(\" \")))\n",
    "df[['Headlines','word_count']].head()"
   ]
  },
  {
   "cell_type": "code",
   "execution_count": 98,
   "id": "149680b4",
   "metadata": {},
   "outputs": [
    {
     "data": {
      "text/plain": [
       "count    1690.000000\n",
       "mean      420.736095\n",
       "std        74.456612\n",
       "min         1.000000\n",
       "25%       374.000000\n",
       "50%       422.000000\n",
       "75%       470.000000\n",
       "max       667.000000\n",
       "Name: word_count, dtype: float64"
      ]
     },
     "execution_count": 98,
     "metadata": {},
     "output_type": "execute_result"
    }
   ],
   "source": [
    "df.word_count.describe()"
   ]
  },
  {
   "cell_type": "code",
   "execution_count": 99,
   "id": "b16764bf",
   "metadata": {},
   "outputs": [
    {
     "data": {
      "text/plain": [
       "<AxesSubplot:>"
      ]
     },
     "execution_count": 99,
     "metadata": {},
     "output_type": "execute_result"
    },
    {
     "data": {
      "image/png": "[encoded data removed]",
      "text/plain": [
       "<Figure size 432x288 with 1 Axes>"
      ]
     },
     "metadata": {
      "needs_background": "light"
     },
     "output_type": "display_data"
    }
   ],
   "source": [
    "df['word_count'].hist()"
   ]
  },
  {
   "cell_type": "code",
   "execution_count": 100,
   "id": "ef077464",
   "metadata": {},
   "outputs": [],
   "source": [
    "all_words = ' '.join([str(i) for i in df['Headlines']]).split()"
   ]
  },
  {
   "cell_type": "code",
   "execution_count": 101,
   "id": "521ad9b2",
   "metadata": {},
   "outputs": [
    {
     "data": {
      "text/plain": [
       "the     22987\n",
       "to      21823\n",
       "of      19166\n",
       "in      18466\n",
       "a       11921\n",
       "and     10497\n",
       "for      7690\n",
       "on       6406\n",
       "is       5202\n",
       "by       4224\n",
       "-        4220\n",
       "that     4061\n",
       "has      3869\n",
       "with     3573\n",
       "from     3544\n",
       "dtype: int64"
      ]
     },
     "execution_count": 101,
     "metadata": {},
     "output_type": "execute_result"
    }
   ],
   "source": [
    "freq = pd.Series(all_words).value_counts()\n",
    "freq.sort_values(ascending=False)[0:15]"
   ]
  },
  {
   "cell_type": "code",
   "execution_count": 102,
   "id": "29180814",
   "metadata": {},
   "outputs": [
    {
     "data": {
      "text/plain": [
       "Index(['the', 'to', 'of', 'in', 'a', 'and', 'for', 'on', 'is', 'by', '-',\n",
       "       'that', 'has', 'with', 'from'],\n",
       "      dtype='object')"
      ]
     },
     "execution_count": 102,
     "metadata": {},
     "output_type": "execute_result"
    }
   ],
   "source": [
    "freq.index[0:15]"
   ]
  },
  {
   "cell_type": "code",
   "execution_count": 103,
   "id": "ab677bd0",
   "metadata": {},
   "outputs": [],
   "source": [
    "stck_df_test['Closing Status'] = ''"
   ]
  },
  {
   "cell_type": "code",
   "execution_count": 104,
   "id": "94ee4352",
   "metadata": {},
   "outputs": [
    {
     "data": {
      "image/png": "[encoded data removed]",
      "text/plain": [
       "<Figure size 432x288 with 1 Axes>"
      ]
     },
     "metadata": {
      "needs_background": "light"
     },
     "output_type": "display_data"
    }
   ],
   "source": [
    "x_labels = freq.index[0:15]\n",
    "values = freq[:15]\n",
    "plt.bar(x_labels, values, align='center', alpha=0.5)\n",
    "plt.xticks(x_labels)\n",
    "plt.ylabel('Frequencies')\n",
    "plt.title('Words')\n",
    "plt.xticks(rotation=90)\n",
    "plt.show()"
   ]
  },
  {
   "cell_type": "code",
   "execution_count": 105,
   "id": "8a31ec89",
   "metadata": {},
   "outputs": [
    {
     "data": {
      "text/plain": [
       "count    1690.000000\n",
       "mean      420.736095\n",
       "std        74.456612\n",
       "min         1.000000\n",
       "25%       374.000000\n",
       "50%       422.000000\n",
       "75%       470.000000\n",
       "max       667.000000\n",
       "Name: word_count, dtype: float64"
      ]
     },
     "execution_count": 105,
     "metadata": {},
     "output_type": "execute_result"
    }
   ],
   "source": [
    "df.word_count.describe()"
   ]
  },
  {
   "cell_type": "markdown",
   "id": "496892f4",
   "metadata": {},
   "source": [
    "# 2. Train - Test split"
   ]
  },
  {
   "cell_type": "code",
   "execution_count": 106,
   "id": "2930b26e",
   "metadata": {},
   "outputs": [],
   "source": [
    "X_train, X_test, y_train, y_test = train_test_split(df['Headlines'], df['LabelSentiment'], test_size=0.20, random_state=4)"
   ]
  },
  {
   "cell_type": "code",
   "execution_count": 107,
   "id": "e2cbbb07",
   "metadata": {},
   "outputs": [
    {
     "data": {
      "text/plain": [
       "(1352, 338, 1352, 338)"
      ]
     },
     "execution_count": 107,
     "metadata": {},
     "output_type": "execute_result"
    }
   ],
   "source": [
    "len(X_train), len(X_test), len(y_train), len(y_test)"
   ]
  },
  {
   "cell_type": "markdown",
   "id": "ab057326",
   "metadata": {},
   "source": [
    "## 3. Data Preprocessing "
   ]
  },
  {
   "cell_type": "code",
   "execution_count": 108,
   "id": "ce6f9316",
   "metadata": {},
   "outputs": [],
   "source": [
    "stop = set(stopwords.words('english'))\n",
    "stemmer = SnowballStemmer('english')\n",
    "lemma = WordNetLemmatizer()"
   ]
  },
  {
   "cell_type": "code",
   "execution_count": 109,
   "id": "7d555ec2",
   "metadata": {},
   "outputs": [],
   "source": [
    "X_train_ = X_train.copy()"
   ]
  },
  {
   "cell_type": "code",
   "execution_count": 110,
   "id": "d77bddac",
   "metadata": {},
   "outputs": [],
   "source": [
    "from tqdm import tqdm\n",
    "def clean(text_list):\n",
    "    \n",
    "    updates = []\n",
    "    \n",
    "    for j in tqdm(text_list):\n",
    "        \n",
    "        text = j\n",
    "        \n",
    "        #LOWERCASE TEXT\n",
    "        #text = text.lower()\n",
    "        \n",
    "        #REMOVE NUMERICAL DATA and PUNCTUATION\n",
    "        text = re.sub(\"[^a-zA-Z]\",\" \", str(text) )\n",
    "        \n",
    "        #REMOVE STOPWORDS\n",
    "        text = \" \".join([word for word in text.split() if word not in stop])\n",
    "        \n",
    "        #Lemmatize\n",
    "        text = \" \".join(lemma.lemmatize(word) for word in text.split())\n",
    "            \n",
    "        updates.append(text)\n",
    "        \n",
    "    return updates"
   ]
  },
  {
   "cell_type": "code",
   "execution_count": 111,
   "id": "0b0d35c3",
   "metadata": {},
   "outputs": [
    {
     "name": "stderr",
     "output_type": "stream",
     "text": [
      "100%|██████████| 1352/1352 [00:02<00:00, 460.19it/s]\n"
     ]
    }
   ],
   "source": [
    "x_train_clean = clean(X_train)"
   ]
  },
  {
   "cell_type": "code",
   "execution_count": 112,
   "id": "ce8927ad",
   "metadata": {},
   "outputs": [
    {
     "name": "stderr",
     "output_type": "stream",
     "text": [
      "100%|██████████| 338/338 [00:00<00:00, 662.05it/s]\n"
     ]
    }
   ],
   "source": [
    "X_test_clean = clean(X_test)"
   ]
  },
  {
   "cell_type": "code",
   "execution_count": 113,
   "id": "565de7a7",
   "metadata": {},
   "outputs": [],
   "source": [
    "y_train = y_train.to_numpy()"
   ]
  },
  {
   "cell_type": "code",
   "execution_count": 114,
   "id": "e414840b",
   "metadata": {},
   "outputs": [],
   "source": [
    "y_test = y_test.to_numpy()"
   ]
  },
  {
   "cell_type": "markdown",
   "id": "3b664f4b",
   "metadata": {},
   "source": [
    "## 4. Feature Engineering\n"
   ]
  },
  {
   "cell_type": "code",
   "execution_count": 115,
   "id": "693550c1",
   "metadata": {},
   "outputs": [],
   "source": [
    "import gensim.downloader"
   ]
  },
  {
   "cell_type": "code",
   "execution_count": 116,
   "id": "ffb8804a",
   "metadata": {},
   "outputs": [
    {
     "name": "stdout",
     "output_type": "stream",
     "text": [
      "['fasttext-wiki-news-subwords-300', 'conceptnet-numberbatch-17-06-300', 'word2vec-ruscorpora-300', 'word2vec-google-news-300', 'glove-wiki-gigaword-50', 'glove-wiki-gigaword-100', 'glove-wiki-gigaword-200', 'glove-wiki-gigaword-300', 'glove-twitter-25', 'glove-twitter-50', 'glove-twitter-100', 'glove-twitter-200', '__testing_word2vec-matrix-synopsis']\n"
     ]
    }
   ],
   "source": [
    "print(list(gensim.downloader.info()['models'].keys()))"
   ]
  },
  {
   "cell_type": "code",
   "execution_count": 117,
   "id": "fde94806",
   "metadata": {},
   "outputs": [],
   "source": [
    "w2v = gensim.downloader.load('word2vec-google-news-300')"
   ]
  },
  {
   "cell_type": "code",
   "execution_count": 118,
   "id": "a5e0222c",
   "metadata": {},
   "outputs": [],
   "source": [
    "def corpus2vec(corpus):\n",
    "    corpus_vec = []\n",
    "    for document in corpus:\n",
    "        #get word vectors for each document\n",
    "        doc_vectors = []\n",
    "        for word in document.split():\n",
    "            if word in w2v.index_to_key:\n",
    "                doc_vectors.append(w2v.word_vec(word))         \n",
    "        corpus_vec.append(doc_vectors)\n",
    "    return corpus_vec"
   ]
  },
  {
   "cell_type": "code",
   "execution_count": 119,
   "id": "3b423747",
   "metadata": {},
   "outputs": [
    {
     "name": "stderr",
     "output_type": "stream",
     "text": [
      "C:\\Users\\carlo\\AppData\\Local\\Temp\\ipykernel_77356\\1283255324.py:8: DeprecationWarning: Call to deprecated `word_vec` (Use get_vector instead).\n",
      "  doc_vectors.append(w2v.word_vec(word))\n"
     ]
    }
   ],
   "source": [
    "x_train_vec = corpus2vec(x_train_clean)"
   ]
  },
  {
   "cell_type": "code",
   "execution_count": 121,
   "id": "40557905",
   "metadata": {},
   "outputs": [
    {
     "name": "stderr",
     "output_type": "stream",
     "text": [
      "C:\\Users\\carlo\\AppData\\Local\\Temp\\ipykernel_77356\\1283255324.py:8: DeprecationWarning: Call to deprecated `word_vec` (Use get_vector instead).\n",
      "  doc_vectors.append(w2v.word_vec(word))\n"
     ]
    }
   ],
   "source": [
    "x_test_vec = corpus2vec(X_test_clean)"
   ]
  },
  {
   "cell_type": "markdown",
   "id": "6ff2ad62",
   "metadata": {},
   "source": [
    "### TfidfVectorizer"
   ]
  },
  {
   "cell_type": "code",
   "execution_count": 122,
   "id": "1903ab0c",
   "metadata": {},
   "outputs": [],
   "source": [
    "from sklearn.feature_extraction.text import TfidfVectorizer"
   ]
  },
  {
   "cell_type": "code",
   "execution_count": 123,
   "id": "a35c56ec",
   "metadata": {},
   "outputs": [],
   "source": [
    "tfidf = TfidfVectorizer(max_df=0.8, ngram_range=(1,2))"
   ]
  },
  {
   "cell_type": "code",
   "execution_count": 124,
   "id": "daf18d48",
   "metadata": {},
   "outputs": [],
   "source": [
    "X = tfidf.fit_transform(x_train_clean).toarray()"
   ]
  },
  {
   "cell_type": "code",
   "execution_count": 125,
   "id": "b0746950",
   "metadata": {},
   "outputs": [
    {
     "data": {
      "text/plain": [
       "(1352, 352294)"
      ]
     },
     "execution_count": 125,
     "metadata": {},
     "output_type": "execute_result"
    }
   ],
   "source": [
    "X.shape"
   ]
  },
  {
   "cell_type": "code",
   "execution_count": 126,
   "id": "dc8d22a3",
   "metadata": {},
   "outputs": [],
   "source": [
    "y = y_train"
   ]
  },
  {
   "cell_type": "code",
   "execution_count": 127,
   "id": "9ec8fb88",
   "metadata": {},
   "outputs": [],
   "source": [
    "x_test = tfidf.transform(X_test_clean).toarray()"
   ]
  },
  {
   "cell_type": "code",
   "execution_count": 128,
   "id": "041b55f2",
   "metadata": {},
   "outputs": [],
   "source": [
    "y_test = y_test"
   ]
  },
  {
   "cell_type": "markdown",
   "id": "281a7568",
   "metadata": {},
   "source": [
    "# 5/6. Classification Model and Evaluations"
   ]
  },
  {
   "cell_type": "markdown",
   "id": "80e76436",
   "metadata": {},
   "source": [
    "Naive Bayes"
   ]
  },
  {
   "cell_type": "code",
   "execution_count": 129,
   "id": "9242f90e",
   "metadata": {},
   "outputs": [],
   "source": [
    "from sklearn.naive_bayes import GaussianNB"
   ]
  },
  {
   "cell_type": "code",
   "execution_count": 130,
   "id": "72fa3d63",
   "metadata": {},
   "outputs": [],
   "source": [
    "nb = GaussianNB()"
   ]
  },
  {
   "cell_type": "code",
   "execution_count": 131,
   "id": "29887ddc",
   "metadata": {},
   "outputs": [
    {
     "data": {
      "text/plain": [
       "GaussianNB()"
      ]
     },
     "execution_count": 131,
     "metadata": {},
     "output_type": "execute_result"
    }
   ],
   "source": [
    "nb.fit(X, y)"
   ]
  },
  {
   "cell_type": "code",
   "execution_count": 132,
   "id": "d07a1d7a",
   "metadata": {},
   "outputs": [],
   "source": [
    "nb_pred = nb.predict(x_test)"
   ]
  },
  {
   "cell_type": "code",
   "execution_count": 133,
   "id": "c292c527",
   "metadata": {},
   "outputs": [],
   "source": [
    "from sklearn.metrics import classification_report"
   ]
  },
  {
   "cell_type": "code",
   "execution_count": 134,
   "id": "cc0237eb",
   "metadata": {},
   "outputs": [
    {
     "name": "stdout",
     "output_type": "stream",
     "text": [
      "              precision    recall  f1-score   support\n",
      "\n",
      "           0       0.47      0.30      0.36       158\n",
      "           1       0.53      0.71      0.61       180\n",
      "\n",
      "    accuracy                           0.51       338\n",
      "   macro avg       0.50      0.50      0.49       338\n",
      "weighted avg       0.50      0.51      0.49       338\n",
      "\n"
     ]
    }
   ],
   "source": [
    "print(classification_report(y_test, nb_pred))"
   ]
  },
  {
   "cell_type": "code",
   "execution_count": 175,
   "id": "d5b55619",
   "metadata": {},
   "outputs": [
    {
     "name": "stdout",
     "output_type": "stream",
     "text": [
      "[0 1 1 1 0 1 1 1 1 1 1 1 0 0 1 1 1 0 1 0 1 0 1 1 0 1 1 1 1 1 1 1 0 0 0 1 1\n",
      " 1 0 1 0 1 1 1 1 0 1 1 1 1 1 0 0 1 1 1 0 1 1 0 1 1 1 0 1 1 0 1 1 1 1 0 1 1\n",
      " 0 0 1 1 1 1 1 1 1 1 1 1 0 1 0 1 1 1 0 0 1 1 0 1 0 0 1 0 1 1 1 0 0 1 0 1 1\n",
      " 1 1 1 0 1 1 1 1 1 1 0 1 1 1 0 0 1 1 0 0 1 0 1 0 1 1 0 1 1 0 1 1 1 1 1 0 1\n",
      " 0 1 0 1 0 1 1 1 0 1 1 1 0 1 0 1 0 0 1 1 0 1 1 0 1 1 1 0 1 1 1 1 1 1 1 0 0\n",
      " 0 1 1 1 1 1 1 1 1 0 0 1 0 1 1 1 1 1 1 1 1 1 1 0 1 1 0 0 0 0 1 1 1 0 1 1 1\n",
      " 0 1 0 1 1 0 1 1 1 1 1 0 1 1 0 1 0 1 1 1 0 1 1 1 1 1 1 1 1 1 1 0 1 1 0 0 0\n",
      " 1 1 1 1 1 1 1 0 1 1 0 1 1 1 1 0 1 1 1 1 0 1 0 1 1 1 1 0 1 0 1 1 1 0 0 1 1\n",
      " 1 1 1 1 1 1 1 1 0 1 0 1 1 1 0 1 0 1 1 1 0 0 0 1 1 1 1 1 1 0 1 1 1 1 0 0 1\n",
      " 1 0 0 1 1]\n"
     ]
    }
   ],
   "source": [
    "print(nb_pred)"
   ]
  },
  {
   "cell_type": "markdown",
   "id": "72ce7c1e",
   "metadata": {},
   "source": [
    "#### Logistic Regression"
   ]
  },
  {
   "cell_type": "code",
   "execution_count": 135,
   "id": "50dafa17",
   "metadata": {},
   "outputs": [],
   "source": [
    "from sklearn.linear_model import LogisticRegression"
   ]
  },
  {
   "cell_type": "code",
   "execution_count": 136,
   "id": "3817c8f9",
   "metadata": {},
   "outputs": [],
   "source": [
    "lr = LogisticRegression(random_state=0)"
   ]
  },
  {
   "cell_type": "code",
   "execution_count": 137,
   "id": "b59fa59b",
   "metadata": {},
   "outputs": [
    {
     "data": {
      "text/plain": [
       "LogisticRegression(random_state=0)"
      ]
     },
     "execution_count": 137,
     "metadata": {},
     "output_type": "execute_result"
    }
   ],
   "source": [
    "lr.fit(X,y)"
   ]
  },
  {
   "cell_type": "code",
   "execution_count": 138,
   "id": "09349889",
   "metadata": {},
   "outputs": [
    {
     "data": {
      "text/plain": [
       "array([0, 1], dtype=int64)"
      ]
     },
     "execution_count": 138,
     "metadata": {},
     "output_type": "execute_result"
    }
   ],
   "source": [
    "lr.classes_"
   ]
  },
  {
   "cell_type": "code",
   "execution_count": 139,
   "id": "3218deb0",
   "metadata": {},
   "outputs": [
    {
     "data": {
      "text/plain": [
       "array([[-0.02136423, -0.02136423, -0.05991764, ..., -0.02096409,\n",
       "         0.01673409,  0.01673409]])"
      ]
     },
     "execution_count": 139,
     "metadata": {},
     "output_type": "execute_result"
    }
   ],
   "source": [
    "lr.coef_"
   ]
  },
  {
   "cell_type": "code",
   "execution_count": 140,
   "id": "4e754f3e",
   "metadata": {},
   "outputs": [
    {
     "data": {
      "text/plain": [
       "array([0.14901326])"
      ]
     },
     "execution_count": 140,
     "metadata": {},
     "output_type": "execute_result"
    }
   ],
   "source": [
    "lr.intercept_"
   ]
  },
  {
   "cell_type": "code",
   "execution_count": 141,
   "id": "69a8a731",
   "metadata": {},
   "outputs": [],
   "source": [
    "lr_pred = lr.predict(x_test)"
   ]
  },
  {
   "cell_type": "code",
   "execution_count": 142,
   "id": "6324ac72",
   "metadata": {},
   "outputs": [
    {
     "data": {
      "text/plain": [
       "array([1, 1, 1, 1, 0, 1, 1, 1, 0, 1, 1, 1, 1, 1, 1, 1, 1, 1, 1, 1, 0, 1,\n",
       "       1, 1, 1, 1, 1, 1, 1, 1, 1, 1, 1, 1, 1, 1, 1, 1, 1, 1, 1, 1, 1, 1,\n",
       "       1, 1, 1, 1, 1, 1, 1, 1, 1, 1, 1, 1, 1, 1, 1, 1, 1, 1, 1, 1, 1, 1,\n",
       "       1, 0, 1, 1, 1, 1, 1, 1, 1, 1, 1, 1, 1, 1, 1, 1, 1, 1, 1, 1, 1, 1,\n",
       "       1, 1, 1, 1, 1, 0, 1, 1, 1, 1, 1, 1, 1, 1, 1, 1, 1, 1, 1, 1, 1, 1,\n",
       "       1, 1, 1, 1, 1, 1, 1, 0, 1, 1, 1, 1, 1, 1, 1, 1, 1, 1, 1, 1, 1, 1,\n",
       "       1, 1, 1, 1, 1, 1, 1, 1, 1, 1, 1, 1, 1, 1, 1, 1, 1, 1, 1, 1, 1, 1,\n",
       "       0, 1, 1, 1, 1, 1, 1, 1, 1, 1, 1, 1, 1, 1, 1, 1, 1, 1, 1, 1, 1, 1,\n",
       "       1, 1, 1, 1, 1, 1, 1, 0, 1, 1, 1, 0, 1, 1, 1, 1, 1, 1, 1, 1, 1, 0,\n",
       "       1, 1, 1, 1, 1, 1, 1, 0, 1, 1, 1, 1, 1, 1, 1, 1, 1, 0, 1, 1, 1, 1,\n",
       "       1, 1, 1, 1, 1, 1, 1, 1, 1, 1, 0, 1, 1, 1, 1, 1, 1, 1, 0, 0, 1, 1,\n",
       "       1, 1, 1, 1, 1, 1, 1, 1, 1, 1, 1, 1, 1, 1, 1, 1, 1, 1, 1, 1, 1, 1,\n",
       "       1, 1, 0, 1, 1, 1, 1, 1, 1, 1, 1, 1, 1, 1, 1, 1, 1, 1, 1, 1, 1, 1,\n",
       "       1, 1, 1, 1, 1, 1, 1, 1, 1, 1, 1, 1, 1, 1, 1, 1, 1, 1, 1, 1, 1, 1,\n",
       "       1, 1, 1, 1, 0, 1, 1, 1, 1, 1, 1, 0, 1, 1, 1, 1, 1, 1, 1, 1, 1, 1,\n",
       "       1, 0, 1, 1, 1, 1, 0, 1], dtype=int64)"
      ]
     },
     "execution_count": 142,
     "metadata": {},
     "output_type": "execute_result"
    }
   ],
   "source": [
    "lr_pred"
   ]
  },
  {
   "cell_type": "code",
   "execution_count": 143,
   "id": "aee0218d",
   "metadata": {},
   "outputs": [
    {
     "data": {
      "text/plain": [
       "array([[0.4936126 , 0.5063874 ],\n",
       "       [0.46631656, 0.53368344],\n",
       "       [0.46524654, 0.53475346],\n",
       "       [0.46671862, 0.53328138],\n",
       "       [0.52145654, 0.47854346],\n",
       "       [0.47847198, 0.52152802],\n",
       "       [0.49272956, 0.50727044],\n",
       "       [0.44959646, 0.55040354],\n",
       "       [0.50206552, 0.49793448],\n",
       "       [0.43922129, 0.56077871],\n",
       "       [0.46887603, 0.53112397],\n",
       "       [0.44819782, 0.55180218],\n",
       "       [0.4637023 , 0.5362977 ],\n",
       "       [0.47035588, 0.52964412],\n",
       "       [0.45218748, 0.54781252],\n",
       "       [0.48397647, 0.51602353],\n",
       "       [0.45378366, 0.54621634],\n",
       "       [0.48367419, 0.51632581],\n",
       "       [0.43131474, 0.56868526],\n",
       "       [0.42417956, 0.57582044],\n",
       "       [0.51363281, 0.48636719],\n",
       "       [0.46357296, 0.53642704],\n",
       "       [0.46007611, 0.53992389],\n",
       "       [0.44925331, 0.55074669],\n",
       "       [0.44916979, 0.55083021],\n",
       "       [0.48089249, 0.51910751],\n",
       "       [0.48766329, 0.51233671],\n",
       "       [0.44331006, 0.55668994],\n",
       "       [0.48321569, 0.51678431],\n",
       "       [0.43106551, 0.56893449],\n",
       "       [0.45434257, 0.54565743],\n",
       "       [0.47615793, 0.52384207],\n",
       "       [0.46462307, 0.53537693],\n",
       "       [0.44026608, 0.55973392],\n",
       "       [0.46986749, 0.53013251],\n",
       "       [0.45493372, 0.54506628],\n",
       "       [0.4705078 , 0.5294922 ],\n",
       "       [0.438998  , 0.561002  ],\n",
       "       [0.46169917, 0.53830083],\n",
       "       [0.48582668, 0.51417332],\n",
       "       [0.47367816, 0.52632184],\n",
       "       [0.43210919, 0.56789081],\n",
       "       [0.47286917, 0.52713083],\n",
       "       [0.46102354, 0.53897646],\n",
       "       [0.48537058, 0.51462942],\n",
       "       [0.44202508, 0.55797492],\n",
       "       [0.47989404, 0.52010596],\n",
       "       [0.48587041, 0.51412959],\n",
       "       [0.43424844, 0.56575156],\n",
       "       [0.46335913, 0.53664087],\n",
       "       [0.45602273, 0.54397727],\n",
       "       [0.49854158, 0.50145842],\n",
       "       [0.45692734, 0.54307266],\n",
       "       [0.39849896, 0.60150104],\n",
       "       [0.40768685, 0.59231315],\n",
       "       [0.48116553, 0.51883447],\n",
       "       [0.47993647, 0.52006353],\n",
       "       [0.43871354, 0.56128646],\n",
       "       [0.46199423, 0.53800577],\n",
       "       [0.47884184, 0.52115816],\n",
       "       [0.42460684, 0.57539316],\n",
       "       [0.49946772, 0.50053228],\n",
       "       [0.40359443, 0.59640557],\n",
       "       [0.47854818, 0.52145182],\n",
       "       [0.46843689, 0.53156311],\n",
       "       [0.4585436 , 0.5414564 ],\n",
       "       [0.43638335, 0.56361665],\n",
       "       [0.50262452, 0.49737548],\n",
       "       [0.47437163, 0.52562837],\n",
       "       [0.46351567, 0.53648433],\n",
       "       [0.48128429, 0.51871571],\n",
       "       [0.44278483, 0.55721517],\n",
       "       [0.49978644, 0.50021356],\n",
       "       [0.46144829, 0.53855171],\n",
       "       [0.49644513, 0.50355487],\n",
       "       [0.45442613, 0.54557387],\n",
       "       [0.45217579, 0.54782421],\n",
       "       [0.47898155, 0.52101845],\n",
       "       [0.42761214, 0.57238786],\n",
       "       [0.44141715, 0.55858285],\n",
       "       [0.45794111, 0.54205889],\n",
       "       [0.43161255, 0.56838745],\n",
       "       [0.38597361, 0.61402639],\n",
       "       [0.47238639, 0.52761361],\n",
       "       [0.44163932, 0.55836068],\n",
       "       [0.45216884, 0.54783116],\n",
       "       [0.46645613, 0.53354387],\n",
       "       [0.45312911, 0.54687089],\n",
       "       [0.43961878, 0.56038122],\n",
       "       [0.46473613, 0.53526387],\n",
       "       [0.46681756, 0.53318244],\n",
       "       [0.4375642 , 0.5624358 ],\n",
       "       [0.47186651, 0.52813349],\n",
       "       [0.50990123, 0.49009877],\n",
       "       [0.48046379, 0.51953621],\n",
       "       [0.41354527, 0.58645473],\n",
       "       [0.46834617, 0.53165383],\n",
       "       [0.46257861, 0.53742139],\n",
       "       [0.44614066, 0.55385934],\n",
       "       [0.4828218 , 0.5171782 ],\n",
       "       [0.46504013, 0.53495987],\n",
       "       [0.48801508, 0.51198492],\n",
       "       [0.43971337, 0.56028663],\n",
       "       [0.45725995, 0.54274005],\n",
       "       [0.48567784, 0.51432216],\n",
       "       [0.47202584, 0.52797416],\n",
       "       [0.47302681, 0.52697319],\n",
       "       [0.45635026, 0.54364974],\n",
       "       [0.48392808, 0.51607192],\n",
       "       [0.41977393, 0.58022607],\n",
       "       [0.49509898, 0.50490102],\n",
       "       [0.43103281, 0.56896719],\n",
       "       [0.46141842, 0.53858158],\n",
       "       [0.4386768 , 0.5613232 ],\n",
       "       [0.48670789, 0.51329211],\n",
       "       [0.47735252, 0.52264748],\n",
       "       [0.48543965, 0.51456035],\n",
       "       [0.50960604, 0.49039396],\n",
       "       [0.43538868, 0.56461132],\n",
       "       [0.45783604, 0.54216396],\n",
       "       [0.44770837, 0.55229163],\n",
       "       [0.49727561, 0.50272439],\n",
       "       [0.44413037, 0.55586963],\n",
       "       [0.44529514, 0.55470486],\n",
       "       [0.44448305, 0.55551695],\n",
       "       [0.42709475, 0.57290525],\n",
       "       [0.46057618, 0.53942382],\n",
       "       [0.4553781 , 0.5446219 ],\n",
       "       [0.44254965, 0.55745035],\n",
       "       [0.44749178, 0.55250822],\n",
       "       [0.46771749, 0.53228251],\n",
       "       [0.46055641, 0.53944359],\n",
       "       [0.47492476, 0.52507524],\n",
       "       [0.45750878, 0.54249122],\n",
       "       [0.47919631, 0.52080369],\n",
       "       [0.47108826, 0.52891174],\n",
       "       [0.47904168, 0.52095832],\n",
       "       [0.42788475, 0.57211525],\n",
       "       [0.46601441, 0.53398559],\n",
       "       [0.4594226 , 0.5405774 ],\n",
       "       [0.46090296, 0.53909704],\n",
       "       [0.48382877, 0.51617123],\n",
       "       [0.4853413 , 0.5146587 ],\n",
       "       [0.46212423, 0.53787577],\n",
       "       [0.44964929, 0.55035071],\n",
       "       [0.46304842, 0.53695158],\n",
       "       [0.48808792, 0.51191208],\n",
       "       [0.44021019, 0.55978981],\n",
       "       [0.46046025, 0.53953975],\n",
       "       [0.45564777, 0.54435223],\n",
       "       [0.46035509, 0.53964491],\n",
       "       [0.43086563, 0.56913437],\n",
       "       [0.48016882, 0.51983118],\n",
       "       [0.48429341, 0.51570659],\n",
       "       [0.50250154, 0.49749846],\n",
       "       [0.43974285, 0.56025715],\n",
       "       [0.47529045, 0.52470955],\n",
       "       [0.46414972, 0.53585028],\n",
       "       [0.4916713 , 0.5083287 ],\n",
       "       [0.46356156, 0.53643844],\n",
       "       [0.47513236, 0.52486764],\n",
       "       [0.46474422, 0.53525578],\n",
       "       [0.44679876, 0.55320124],\n",
       "       [0.45638843, 0.54361157],\n",
       "       [0.47348409, 0.52651591],\n",
       "       [0.43704644, 0.56295356],\n",
       "       [0.46176286, 0.53823714],\n",
       "       [0.47006286, 0.52993714],\n",
       "       [0.45062294, 0.54937706],\n",
       "       [0.48764064, 0.51235936],\n",
       "       [0.4603232 , 0.5396768 ],\n",
       "       [0.47547103, 0.52452897],\n",
       "       [0.49835028, 0.50164972],\n",
       "       [0.45201684, 0.54798316],\n",
       "       [0.48277099, 0.51722901],\n",
       "       [0.47844288, 0.52155712],\n",
       "       [0.46001243, 0.53998757],\n",
       "       [0.47883693, 0.52116307],\n",
       "       [0.48322495, 0.51677505],\n",
       "       [0.44194741, 0.55805259],\n",
       "       [0.42689659, 0.57310341],\n",
       "       [0.49565619, 0.50434381],\n",
       "       [0.42064018, 0.57935982],\n",
       "       [0.50667966, 0.49332034],\n",
       "       [0.47498323, 0.52501677],\n",
       "       [0.48279034, 0.51720966],\n",
       "       [0.4408331 , 0.5591669 ],\n",
       "       [0.5016839 , 0.4983161 ],\n",
       "       [0.44658711, 0.55341289],\n",
       "       [0.48549159, 0.51450841],\n",
       "       [0.46044298, 0.53955702],\n",
       "       [0.46371405, 0.53628595],\n",
       "       [0.49411643, 0.50588357],\n",
       "       [0.46853595, 0.53146405],\n",
       "       [0.43488426, 0.56511574],\n",
       "       [0.45967386, 0.54032614],\n",
       "       [0.4727362 , 0.5272638 ],\n",
       "       [0.50497224, 0.49502776],\n",
       "       [0.42674878, 0.57325122],\n",
       "       [0.48676752, 0.51323248],\n",
       "       [0.45088122, 0.54911878],\n",
       "       [0.45558929, 0.54441071],\n",
       "       [0.43839982, 0.56160018],\n",
       "       [0.4739038 , 0.5260962 ],\n",
       "       [0.45991654, 0.54008346],\n",
       "       [0.50147427, 0.49852573],\n",
       "       [0.48400569, 0.51599431],\n",
       "       [0.4710231 , 0.5289769 ],\n",
       "       [0.47991581, 0.52008419],\n",
       "       [0.46407364, 0.53592636],\n",
       "       [0.46210036, 0.53789964],\n",
       "       [0.49796426, 0.50203574],\n",
       "       [0.44435454, 0.55564546],\n",
       "       [0.49208294, 0.50791706],\n",
       "       [0.47214844, 0.52785156],\n",
       "       [0.50557113, 0.49442887],\n",
       "       [0.47343087, 0.52656913],\n",
       "       [0.47800614, 0.52199386],\n",
       "       [0.45432959, 0.54567041],\n",
       "       [0.47041195, 0.52958805],\n",
       "       [0.43243695, 0.56756305],\n",
       "       [0.49616429, 0.50383571],\n",
       "       [0.44344234, 0.55655766],\n",
       "       [0.4880838 , 0.5119162 ],\n",
       "       [0.49863714, 0.50136286],\n",
       "       [0.46479184, 0.53520816],\n",
       "       [0.42989956, 0.57010044],\n",
       "       [0.44463058, 0.55536942],\n",
       "       [0.45876631, 0.54123369],\n",
       "       [0.45159399, 0.54840601],\n",
       "       [0.52261529, 0.47738471],\n",
       "       [0.4337805 , 0.5662195 ],\n",
       "       [0.45946174, 0.54053826],\n",
       "       [0.46837668, 0.53162332],\n",
       "       [0.47609182, 0.52390818],\n",
       "       [0.46116001, 0.53883999],\n",
       "       [0.47542912, 0.52457088],\n",
       "       [0.47979004, 0.52020996],\n",
       "       [0.50262644, 0.49737356],\n",
       "       [0.50007941, 0.49992059],\n",
       "       [0.41121674, 0.58878326],\n",
       "       [0.45348925, 0.54651075],\n",
       "       [0.45994649, 0.54005351],\n",
       "       [0.4377457 , 0.5622543 ],\n",
       "       [0.49568064, 0.50431936],\n",
       "       [0.43821081, 0.56178919],\n",
       "       [0.48979843, 0.51020157],\n",
       "       [0.46536355, 0.53463645],\n",
       "       [0.42188698, 0.57811302],\n",
       "       [0.47572401, 0.52427599],\n",
       "       [0.47358351, 0.52641649],\n",
       "       [0.48210527, 0.51789473],\n",
       "       [0.45954751, 0.54045249],\n",
       "       [0.47980502, 0.52019498],\n",
       "       [0.48661553, 0.51338447],\n",
       "       [0.46250261, 0.53749739],\n",
       "       [0.47366314, 0.52633686],\n",
       "       [0.46980642, 0.53019358],\n",
       "       [0.47532632, 0.52467368],\n",
       "       [0.46389393, 0.53610607],\n",
       "       [0.47627985, 0.52372015],\n",
       "       [0.48647853, 0.51352147],\n",
       "       [0.43041855, 0.56958145],\n",
       "       [0.48730324, 0.51269676],\n",
       "       [0.44893016, 0.55106984],\n",
       "       [0.49039785, 0.50960215],\n",
       "       [0.50971448, 0.49028552],\n",
       "       [0.48083028, 0.51916972],\n",
       "       [0.46140225, 0.53859775],\n",
       "       [0.46917414, 0.53082586],\n",
       "       [0.44927566, 0.55072434],\n",
       "       [0.44705137, 0.55294863],\n",
       "       [0.49708783, 0.50291217],\n",
       "       [0.45257192, 0.54742808],\n",
       "       [0.46629036, 0.53370964],\n",
       "       [0.44240152, 0.55759848],\n",
       "       [0.46149289, 0.53850711],\n",
       "       [0.45943722, 0.54056278],\n",
       "       [0.46224955, 0.53775045],\n",
       "       [0.48331694, 0.51668306],\n",
       "       [0.46402476, 0.53597524],\n",
       "       [0.4730926 , 0.5269074 ],\n",
       "       [0.43509514, 0.56490486],\n",
       "       [0.47005257, 0.52994743],\n",
       "       [0.49178614, 0.50821386],\n",
       "       [0.45881979, 0.54118021],\n",
       "       [0.47304885, 0.52695115],\n",
       "       [0.47015736, 0.52984264],\n",
       "       [0.461526  , 0.538474  ],\n",
       "       [0.48474245, 0.51525755],\n",
       "       [0.45994681, 0.54005319],\n",
       "       [0.46030087, 0.53969913],\n",
       "       [0.46779867, 0.53220133],\n",
       "       [0.46789438, 0.53210562],\n",
       "       [0.44639826, 0.55360174],\n",
       "       [0.43885691, 0.56114309],\n",
       "       [0.46535154, 0.53464846],\n",
       "       [0.47212956, 0.52787044],\n",
       "       [0.46766307, 0.53233693],\n",
       "       [0.46319669, 0.53680331],\n",
       "       [0.45581571, 0.54418429],\n",
       "       [0.45143428, 0.54856572],\n",
       "       [0.44826555, 0.55173445],\n",
       "       [0.48289448, 0.51710552],\n",
       "       [0.45791072, 0.54208928],\n",
       "       [0.46930152, 0.53069848],\n",
       "       [0.47017705, 0.52982295],\n",
       "       [0.48604267, 0.51395733],\n",
       "       [0.45434529, 0.54565471],\n",
       "       [0.45171568, 0.54828432],\n",
       "       [0.47523843, 0.52476157],\n",
       "       [0.4607749 , 0.5392251 ],\n",
       "       [0.52309367, 0.47690633],\n",
       "       [0.47664814, 0.52335186],\n",
       "       [0.48349398, 0.51650602],\n",
       "       [0.44883931, 0.55116069],\n",
       "       [0.43613681, 0.56386319],\n",
       "       [0.46975505, 0.53024495],\n",
       "       [0.46176132, 0.53823868],\n",
       "       [0.50853538, 0.49146462],\n",
       "       [0.47045325, 0.52954675],\n",
       "       [0.48433573, 0.51566427],\n",
       "       [0.47869504, 0.52130496],\n",
       "       [0.44551508, 0.55448492],\n",
       "       [0.45075209, 0.54924791],\n",
       "       [0.47114165, 0.52885835],\n",
       "       [0.47212253, 0.52787747],\n",
       "       [0.47401132, 0.52598868],\n",
       "       [0.47488302, 0.52511698],\n",
       "       [0.46896547, 0.53103453],\n",
       "       [0.47168281, 0.52831719],\n",
       "       [0.50267931, 0.49732069],\n",
       "       [0.46958709, 0.53041291],\n",
       "       [0.45261468, 0.54738532],\n",
       "       [0.46057842, 0.53942158],\n",
       "       [0.46386285, 0.53613715],\n",
       "       [0.50882886, 0.49117114],\n",
       "       [0.44066147, 0.55933853]])"
      ]
     },
     "execution_count": 143,
     "metadata": {},
     "output_type": "execute_result"
    }
   ],
   "source": [
    "lr.predict_proba(x_test)"
   ]
  },
  {
   "cell_type": "code",
   "execution_count": 144,
   "id": "e6840401",
   "metadata": {},
   "outputs": [
    {
     "name": "stdout",
     "output_type": "stream",
     "text": [
      "              precision    recall  f1-score   support\n",
      "\n",
      "           0       0.20      0.03      0.04       158\n",
      "           1       0.52      0.91      0.66       180\n",
      "\n",
      "    accuracy                           0.50       338\n",
      "   macro avg       0.36      0.47      0.35       338\n",
      "weighted avg       0.37      0.50      0.37       338\n",
      "\n"
     ]
    }
   ],
   "source": [
    "print(classification_report(y_test, lr_pred))"
   ]
  },
  {
   "cell_type": "code",
   "execution_count": 174,
   "id": "f7697390",
   "metadata": {},
   "outputs": [
    {
     "name": "stdout",
     "output_type": "stream",
     "text": [
      "[1 1 1 1 0 1 1 1 0 1 1 1 1 1 1 1 1 1 1 1 0 1 1 1 1 1 1 1 1 1 1 1 1 1 1 1 1\n",
      " 1 1 1 1 1 1 1 1 1 1 1 1 1 1 1 1 1 1 1 1 1 1 1 1 1 1 1 1 1 1 0 1 1 1 1 1 1\n",
      " 1 1 1 1 1 1 1 1 1 1 1 1 1 1 1 1 1 1 1 0 1 1 1 1 1 1 1 1 1 1 1 1 1 1 1 1 1\n",
      " 1 1 1 1 1 1 0 1 1 1 1 1 1 1 1 1 1 1 1 1 1 1 1 1 1 1 1 1 1 1 1 1 1 1 1 1 1\n",
      " 1 1 1 1 1 1 0 1 1 1 1 1 1 1 1 1 1 1 1 1 1 1 1 1 1 1 1 1 1 1 1 1 1 1 1 0 1\n",
      " 1 1 0 1 1 1 1 1 1 1 1 1 0 1 1 1 1 1 1 1 0 1 1 1 1 1 1 1 1 1 0 1 1 1 1 1 1\n",
      " 1 1 1 1 1 1 1 1 0 1 1 1 1 1 1 1 0 0 1 1 1 1 1 1 1 1 1 1 1 1 1 1 1 1 1 1 1\n",
      " 1 1 1 1 1 1 1 0 1 1 1 1 1 1 1 1 1 1 1 1 1 1 1 1 1 1 1 1 1 1 1 1 1 1 1 1 1\n",
      " 1 1 1 1 1 1 1 1 1 1 1 1 1 1 1 1 0 1 1 1 1 1 1 0 1 1 1 1 1 1 1 1 1 1 1 0 1\n",
      " 1 1 1 0 1]\n"
     ]
    }
   ],
   "source": [
    "print(lr_pred)"
   ]
  },
  {
   "cell_type": "markdown",
   "id": "e56ef835",
   "metadata": {},
   "source": [
    "#### Multilayer Perceptron - ANN"
   ]
  },
  {
   "cell_type": "code",
   "execution_count": 145,
   "id": "17bc9dbb",
   "metadata": {},
   "outputs": [],
   "source": [
    "from sklearn.neural_network import MLPClassifier"
   ]
  },
  {
   "cell_type": "code",
   "execution_count": 146,
   "id": "0b74f5ac",
   "metadata": {},
   "outputs": [],
   "source": [
    "mlp = MLPClassifier(solver='adam', hidden_layer_sizes=(2,2), activation='logistic', random_state=1)"
   ]
  },
  {
   "cell_type": "code",
   "execution_count": 147,
   "id": "b111b519",
   "metadata": {},
   "outputs": [
    {
     "name": "stderr",
     "output_type": "stream",
     "text": [
      "C:\\Users\\carlo\\anaconda3\\lib\\site-packages\\sklearn\\neural_network\\_multilayer_perceptron.py:692: ConvergenceWarning: Stochastic Optimizer: Maximum iterations (200) reached and the optimization hasn't converged yet.\n",
      "  warnings.warn(\n"
     ]
    },
    {
     "data": {
      "text/plain": [
       "MLPClassifier(activation='logistic', hidden_layer_sizes=(2, 2), random_state=1)"
      ]
     },
     "execution_count": 147,
     "metadata": {},
     "output_type": "execute_result"
    }
   ],
   "source": [
    "mlp.fit(X,y)"
   ]
  },
  {
   "cell_type": "code",
   "execution_count": 148,
   "id": "af4d61cf",
   "metadata": {},
   "outputs": [],
   "source": [
    "mlp_pred = mlp.predict(x_test)"
   ]
  },
  {
   "cell_type": "code",
   "execution_count": 149,
   "id": "90abe593",
   "metadata": {},
   "outputs": [
    {
     "name": "stdout",
     "output_type": "stream",
     "text": [
      "              precision    recall  f1-score   support\n",
      "\n",
      "           0       0.46      0.23      0.31       158\n",
      "           1       0.53      0.76      0.62       180\n",
      "\n",
      "    accuracy                           0.51       338\n",
      "   macro avg       0.49      0.49      0.47       338\n",
      "weighted avg       0.50      0.51      0.48       338\n",
      "\n"
     ]
    }
   ],
   "source": [
    "print(classification_report(y_test, mlp_pred))"
   ]
  },
  {
   "cell_type": "code",
   "execution_count": 173,
   "id": "16a8a74d",
   "metadata": {},
   "outputs": [
    {
     "name": "stdout",
     "output_type": "stream",
     "text": [
      "[0 1 1 1 0 1 0 1 0 1 1 1 1 0 1 1 1 0 1 1 0 1 1 1 1 0 1 1 1 1 1 1 1 1 1 1 1\n",
      " 1 1 0 0 1 1 1 0 1 1 1 1 1 1 0 1 1 1 1 0 1 1 0 1 0 1 1 1 1 1 0 1 1 1 1 0 1\n",
      " 0 1 1 1 1 1 1 1 1 1 1 1 1 1 1 1 1 1 1 0 0 1 1 1 1 0 1 0 1 1 1 0 0 1 0 1 1\n",
      " 1 1 1 0 1 0 0 1 1 1 0 1 1 1 1 1 1 1 1 0 1 0 1 0 1 1 1 1 1 1 0 1 1 1 1 0 1\n",
      " 1 1 1 1 0 1 0 1 0 1 0 1 1 1 1 1 1 1 1 0 1 1 1 0 0 1 0 0 1 1 0 1 1 1 1 0 1\n",
      " 1 1 0 1 1 1 1 1 1 1 1 1 0 1 0 1 1 1 1 1 0 1 1 1 1 1 0 1 0 1 0 0 0 1 1 1 0\n",
      " 1 0 0 1 1 1 1 1 0 1 1 1 1 1 0 0 0 1 1 1 1 1 0 1 1 1 1 1 1 0 1 0 1 1 1 1 0\n",
      " 1 1 0 1 0 1 0 0 1 1 1 1 1 0 1 0 1 1 1 1 1 1 0 1 1 0 1 1 1 1 1 1 1 1 0 1 1\n",
      " 1 1 1 1 1 1 1 1 1 1 1 1 1 1 1 1 0 1 0 1 1 1 1 0 1 0 1 1 1 0 1 1 1 1 1 0 1\n",
      " 1 1 1 0 1]\n"
     ]
    }
   ],
   "source": [
    "print(mlp_pred)"
   ]
  },
  {
   "cell_type": "markdown",
   "id": "241f9c68",
   "metadata": {},
   "source": [
    "#### Model Initiation and Train (LSTM)"
   ]
  },
  {
   "cell_type": "code",
   "execution_count": 150,
   "id": "6f8d9799",
   "metadata": {},
   "outputs": [],
   "source": [
    "import tensorflow as tf\n",
    "tf.config.run_functions_eagerly(True)\n",
    "tf.data.experimental.enable_debug_mode()\n",
    "tf.random.set_seed(221)\n",
    "from keras.models import Model, Input\n",
    "from keras.layers import LSTM, Dense, TimeDistributed, Bidirectional, Masking\n",
    "from tensorflow.keras import layers\n",
    "from keras.preprocessing.sequence import pad_sequences"
   ]
  },
  {
   "cell_type": "code",
   "execution_count": 151,
   "id": "e1999fc8",
   "metadata": {},
   "outputs": [
    {
     "data": {
      "text/plain": [
       "448"
      ]
     },
     "execution_count": 151,
     "metadata": {},
     "output_type": "execute_result"
    }
   ],
   "source": [
    "train_len = []\n",
    "for i in x_train_vec:\n",
    "    train_len.append(len(i))\n",
    "max(train_len)"
   ]
  },
  {
   "cell_type": "code",
   "execution_count": 152,
   "id": "d4152c74",
   "metadata": {},
   "outputs": [],
   "source": [
    "X_pad = pad_sequences(maxlen=48,sequences=x_train_vec, padding=\"post\", dtype='float64')"
   ]
  },
  {
   "cell_type": "code",
   "execution_count": 153,
   "id": "e908d130",
   "metadata": {},
   "outputs": [],
   "source": [
    "X = tf.convert_to_tensor(X_pad, dtype='float32')"
   ]
  },
  {
   "cell_type": "code",
   "execution_count": 158,
   "id": "5636dd9d",
   "metadata": {},
   "outputs": [
    {
     "name": "stdout",
     "output_type": "stream",
     "text": [
      "Model: \"model_2\"\n",
      "_________________________________________________________________\n",
      " Layer (type)                Output Shape              Param #   \n",
      "=================================================================\n",
      " input_3 (InputLayer)        [(None, 48, 300)]         0         \n",
      "                                                                 \n",
      " masking_2 (Masking)         (None, 48, 300)           0         \n",
      "                                                                 \n",
      " bidirectional_2 (Bidirectio  (None, 8)                9760      \n",
      " nal)                                                            \n",
      "                                                                 \n",
      " dense_2 (Dense)             (None, 2)                 18        \n",
      "                                                                 \n",
      "=================================================================\n",
      "Total params: 9,778\n",
      "Trainable params: 9,778\n",
      "Non-trainable params: 0\n",
      "_________________________________________________________________\n"
     ]
    }
   ],
   "source": [
    "'''model input in the shape(number of words per doc, word embedding size)'''\n",
    "input_ = Input(shape=(48,300))\n",
    "\n",
    "'''mask layer to avoid model from considering padding vectors'''\n",
    "mask_layer = Masking(mask_value=0)\n",
    "mask = mask_layer(input_)\n",
    "\n",
    "'''BiLSTM layer'''\n",
    "\n",
    "lstm = Bidirectional(LSTM(units=4))(mask)\n",
    "\n",
    "'''activation layer'''\n",
    "act = Dense(2, activation='sigmoid')(lstm)\n",
    "\n",
    "'''model input and output'''\n",
    "model = Model(input_, act)\n",
    "\n",
    "'''model loss function and evaluation metrics'''\n",
    "model.compile(optimizer=\"adam\", loss=\"binary_crossentropy\", metrics=[\"binary_accuracy\"])\n",
    "model.summary()"
   ]
  },
  {
   "cell_type": "code",
   "execution_count": 159,
   "id": "f1fd336f",
   "metadata": {},
   "outputs": [
    {
     "data": {
      "text/plain": [
       "TensorShape([1352, 48, 300])"
      ]
     },
     "execution_count": 159,
     "metadata": {},
     "output_type": "execute_result"
    }
   ],
   "source": [
    "X.shape"
   ]
  },
  {
   "cell_type": "code",
   "execution_count": 160,
   "id": "31e41ff3",
   "metadata": {},
   "outputs": [],
   "source": [
    "y = tf.one_hot(y_train, depth=2)"
   ]
  },
  {
   "cell_type": "code",
   "execution_count": 161,
   "id": "2163d20d",
   "metadata": {},
   "outputs": [
    {
     "name": "stdout",
     "output_type": "stream",
     "text": [
      "Epoch 1/10\n",
      "68/68 [==============================] - 17s 249ms/step - loss: 0.6938 - binary_accuracy: 0.5079 - val_loss: 0.6901 - val_binary_accuracy: 0.5055\n",
      "Epoch 2/10\n",
      "68/68 [==============================] - 20s 294ms/step - loss: 0.6862 - binary_accuracy: 0.5402 - val_loss: 0.6909 - val_binary_accuracy: 0.5166\n",
      "Epoch 3/10\n",
      "68/68 [==============================] - 20s 287ms/step - loss: 0.6788 - binary_accuracy: 0.5675 - val_loss: 0.6936 - val_binary_accuracy: 0.5111\n",
      "Epoch 4/10\n",
      "68/68 [==============================] - 20s 289ms/step - loss: 0.6645 - binary_accuracy: 0.6073 - val_loss: 0.7013 - val_binary_accuracy: 0.5351\n",
      "Epoch 5/10\n",
      "68/68 [==============================] - 19s 279ms/step - loss: 0.6378 - binary_accuracy: 0.6711 - val_loss: 0.7260 - val_binary_accuracy: 0.5314\n",
      "Epoch 6/10\n",
      "68/68 [==============================] - 19s 277ms/step - loss: 0.5985 - binary_accuracy: 0.7137 - val_loss: 0.7508 - val_binary_accuracy: 0.4649\n",
      "Epoch 7/10\n",
      "68/68 [==============================] - 19s 280ms/step - loss: 0.5514 - binary_accuracy: 0.7590 - val_loss: 0.7955 - val_binary_accuracy: 0.4760\n",
      "Epoch 8/10\n",
      "68/68 [==============================] - 19s 281ms/step - loss: 0.5049 - binary_accuracy: 0.7817 - val_loss: 0.8371 - val_binary_accuracy: 0.4539\n",
      "Epoch 9/10\n",
      "68/68 [==============================] - 19s 285ms/step - loss: 0.4562 - binary_accuracy: 0.8113 - val_loss: 0.8749 - val_binary_accuracy: 0.4649\n",
      "Epoch 10/10\n",
      "68/68 [==============================] - 19s 282ms/step - loss: 0.4018 - binary_accuracy: 0.8571 - val_loss: 0.9474 - val_binary_accuracy: 0.4520\n"
     ]
    }
   ],
   "source": [
    "history = model.fit(X, y, batch_size=16, epochs=10, verbose=1, validation_split=0.20)"
   ]
  },
  {
   "cell_type": "code",
   "execution_count": 162,
   "id": "c57da2f4",
   "metadata": {},
   "outputs": [
    {
     "data": {
      "image/png": "[encoded data removed]",
      "text/plain": [
       "<Figure size 720x432 with 1 Axes>"
      ]
     },
     "metadata": {
      "needs_background": "light"
     },
     "output_type": "display_data"
    }
   ],
   "source": [
    "import matplotlib.pyplot as plt\n",
    "plt.figure(figsize =(10, 6))\n",
    "plt.plot(history.history['binary_accuracy'])\n",
    "plt.plot(history.history['val_binary_accuracy'])\n",
    "plt.title('Model Accuracy')\n",
    "plt.ylabel('Accuracy')\n",
    "plt.xlabel('Epoch')\n",
    "plt.legend(['train', 'val'], loc='upper left')\n",
    "plt.show()"
   ]
  },
  {
   "cell_type": "code",
   "execution_count": 163,
   "id": "a889eebb",
   "metadata": {},
   "outputs": [],
   "source": [
    "X_test_pad = pad_sequences(maxlen=48,sequences=x_test_vec, padding=\"post\", dtype='float64')"
   ]
  },
  {
   "cell_type": "code",
   "execution_count": 164,
   "id": "8accbb8f",
   "metadata": {},
   "outputs": [],
   "source": [
    "x_test = tf.convert_to_tensor(X_test_pad, dtype='float32')"
   ]
  },
  {
   "cell_type": "code",
   "execution_count": 165,
   "id": "0f51e972",
   "metadata": {},
   "outputs": [
    {
     "data": {
      "text/plain": [
       "TensorShape([338, 48, 300])"
      ]
     },
     "execution_count": 165,
     "metadata": {},
     "output_type": "execute_result"
    }
   ],
   "source": [
    "x_test.shape"
   ]
  },
  {
   "cell_type": "code",
   "execution_count": 166,
   "id": "248f72f6",
   "metadata": {},
   "outputs": [],
   "source": [
    "pred_y = model.predict(x_test)"
   ]
  },
  {
   "cell_type": "code",
   "execution_count": 167,
   "id": "f96a7a97",
   "metadata": {},
   "outputs": [
    {
     "data": {
      "text/plain": [
       "array([[0.33829698, 0.70946836],\n",
       "       [0.18149173, 0.7902884 ],\n",
       "       [0.45374933, 0.4739877 ],\n",
       "       [0.46432036, 0.5955602 ],\n",
       "       [0.68659514, 0.30043387],\n",
       "       [0.33077854, 0.67385566],\n",
       "       [0.48450565, 0.6513485 ],\n",
       "       [0.45137233, 0.5191665 ],\n",
       "       [0.1467573 , 0.8510165 ],\n",
       "       [0.11525074, 0.87091184],\n",
       "       [0.22668362, 0.7376158 ],\n",
       "       [0.7592491 , 0.17985678],\n",
       "       [0.3219792 , 0.6402718 ],\n",
       "       [0.6756458 , 0.2789849 ],\n",
       "       [0.21411297, 0.7701596 ],\n",
       "       [0.5400574 , 0.41954997],\n",
       "       [0.7753148 , 0.25697112],\n",
       "       [0.5991624 , 0.3639792 ],\n",
       "       [0.47139543, 0.5920277 ],\n",
       "       [0.1342394 , 0.794732  ],\n",
       "       [0.6876471 , 0.37149066],\n",
       "       [0.06395659, 0.9270078 ],\n",
       "       [0.7567892 , 0.26004162],\n",
       "       [0.3138578 , 0.6378108 ],\n",
       "       [0.29005042, 0.6694764 ],\n",
       "       [0.22319558, 0.64972025],\n",
       "       [0.58632666, 0.4558342 ],\n",
       "       [0.06308231, 0.93546283],\n",
       "       [0.06451488, 0.93346786],\n",
       "       [0.29544243, 0.7443955 ],\n",
       "       [0.20026794, 0.7459435 ],\n",
       "       [0.04476759, 0.9551921 ],\n",
       "       [0.4793169 , 0.6691588 ],\n",
       "       [0.51059514, 0.61965513],\n",
       "       [0.12170556, 0.8589384 ],\n",
       "       [0.21438435, 0.7907404 ],\n",
       "       [0.21807078, 0.7499189 ],\n",
       "       [0.5469592 , 0.4811738 ],\n",
       "       [0.6110292 , 0.47668764],\n",
       "       [0.09783083, 0.878489  ],\n",
       "       [0.58751976, 0.23966968],\n",
       "       [0.07206452, 0.92127633],\n",
       "       [0.10704699, 0.912176  ],\n",
       "       [0.7483525 , 0.37293333],\n",
       "       [0.8954394 , 0.11102998],\n",
       "       [0.08175278, 0.906545  ],\n",
       "       [0.6424874 , 0.46692204],\n",
       "       [0.5656674 , 0.33581135],\n",
       "       [0.416799  , 0.7425957 ],\n",
       "       [0.30806172, 0.6312673 ],\n",
       "       [0.33665597, 0.6851506 ],\n",
       "       [0.05516538, 0.92523307],\n",
       "       [0.05092943, 0.9461775 ],\n",
       "       [0.04622093, 0.9407141 ],\n",
       "       [0.27099967, 0.7298226 ],\n",
       "       [0.7558309 , 0.23372123],\n",
       "       [0.5557722 , 0.5264255 ],\n",
       "       [0.23565757, 0.7268833 ],\n",
       "       [0.90355074, 0.0846487 ],\n",
       "       [0.10386145, 0.8306954 ],\n",
       "       [0.08058289, 0.91250193],\n",
       "       [0.83597916, 0.15903285],\n",
       "       [0.63134444, 0.2954027 ],\n",
       "       [0.7532037 , 0.3561455 ],\n",
       "       [0.18231297, 0.75073546],\n",
       "       [0.63138187, 0.37719476],\n",
       "       [0.37113014, 0.61888933],\n",
       "       [0.4451215 , 0.55719805],\n",
       "       [0.5074132 , 0.58756405],\n",
       "       [0.07219532, 0.90273273],\n",
       "       [0.33071506, 0.610959  ],\n",
       "       [0.88188565, 0.10950238],\n",
       "       [0.27143988, 0.7745418 ],\n",
       "       [0.28624535, 0.6604031 ],\n",
       "       [0.5781678 , 0.425774  ],\n",
       "       [0.94939756, 0.05323926],\n",
       "       [0.7912171 , 0.28512633],\n",
       "       [0.3767588 , 0.6331392 ],\n",
       "       [0.15232846, 0.8162906 ],\n",
       "       [0.23623231, 0.75112426],\n",
       "       [0.51701534, 0.3660129 ],\n",
       "       [0.4002339 , 0.62460476],\n",
       "       [0.2725705 , 0.6295521 ],\n",
       "       [0.14646432, 0.8033488 ],\n",
       "       [0.26555473, 0.7692283 ],\n",
       "       [0.39385104, 0.5045222 ],\n",
       "       [0.85838556, 0.16852799],\n",
       "       [0.31057602, 0.6439151 ],\n",
       "       [0.43660676, 0.52093625],\n",
       "       [0.8288994 , 0.13964024],\n",
       "       [0.55457   , 0.45261556],\n",
       "       [0.7688656 , 0.26190573],\n",
       "       [0.10249385, 0.86903334],\n",
       "       [0.32204756, 0.5770642 ],\n",
       "       [0.3748161 , 0.69583094],\n",
       "       [0.16891813, 0.8221425 ],\n",
       "       [0.58016896, 0.45156902],\n",
       "       [0.53905916, 0.5455246 ],\n",
       "       [0.11932665, 0.8405998 ],\n",
       "       [0.5793521 , 0.4239171 ],\n",
       "       [0.52935475, 0.5714196 ],\n",
       "       [0.31306374, 0.6362979 ],\n",
       "       [0.7923808 , 0.3437499 ],\n",
       "       [0.16171408, 0.8804748 ],\n",
       "       [0.27474082, 0.73898125],\n",
       "       [0.37480193, 0.6012762 ],\n",
       "       [0.14339668, 0.8656772 ],\n",
       "       [0.45213538, 0.5228524 ],\n",
       "       [0.8682932 , 0.13394672],\n",
       "       [0.45719948, 0.57406497],\n",
       "       [0.63453454, 0.4332242 ],\n",
       "       [0.18805915, 0.800755  ],\n",
       "       [0.37728897, 0.6659808 ],\n",
       "       [0.2670753 , 0.75513047],\n",
       "       [0.24247253, 0.7482572 ],\n",
       "       [0.48824573, 0.58498186],\n",
       "       [0.6972084 , 0.26838565],\n",
       "       [0.06470427, 0.9318887 ],\n",
       "       [0.3358125 , 0.70179534],\n",
       "       [0.20403373, 0.7632272 ],\n",
       "       [0.08615518, 0.91463774],\n",
       "       [0.7759911 , 0.23013818],\n",
       "       [0.6344534 , 0.39133775],\n",
       "       [0.5614816 , 0.5392819 ],\n",
       "       [0.46897984, 0.69286376],\n",
       "       [0.6285757 , 0.4103349 ],\n",
       "       [0.06529158, 0.92010665],\n",
       "       [0.71085525, 0.3091412 ],\n",
       "       [0.12880376, 0.8619981 ],\n",
       "       [0.5428115 , 0.4975565 ],\n",
       "       [0.06892821, 0.905469  ],\n",
       "       [0.44413978, 0.43585423],\n",
       "       [0.15767011, 0.8369304 ],\n",
       "       [0.51242423, 0.53068423],\n",
       "       [0.2916334 , 0.7021978 ],\n",
       "       [0.78180647, 0.23278967],\n",
       "       [0.44349524, 0.61332256],\n",
       "       [0.17474386, 0.75056475],\n",
       "       [0.20770207, 0.72578555],\n",
       "       [0.13803428, 0.80358213],\n",
       "       [0.08455321, 0.87387323],\n",
       "       [0.47327548, 0.4484636 ],\n",
       "       [0.4585587 , 0.52566546],\n",
       "       [0.5910346 , 0.35688922],\n",
       "       [0.34548157, 0.6671527 ],\n",
       "       [0.78058696, 0.28079045],\n",
       "       [0.10944006, 0.84102076],\n",
       "       [0.46798074, 0.5402643 ],\n",
       "       [0.61478084, 0.53963953],\n",
       "       [0.22648382, 0.78918624],\n",
       "       [0.14859706, 0.83072174],\n",
       "       [0.8048804 , 0.2202597 ],\n",
       "       [0.39790517, 0.7175473 ],\n",
       "       [0.54137814, 0.5611228 ],\n",
       "       [0.1043942 , 0.902946  ],\n",
       "       [0.07610267, 0.91256   ],\n",
       "       [0.7866517 , 0.16951   ],\n",
       "       [0.3331409 , 0.6513741 ],\n",
       "       [0.34596398, 0.67217207],\n",
       "       [0.25012323, 0.68407404],\n",
       "       [0.8789197 , 0.14108172],\n",
       "       [0.09892607, 0.89093184],\n",
       "       [0.38084373, 0.64547247],\n",
       "       [0.10530484, 0.89874715],\n",
       "       [0.20504543, 0.76711977],\n",
       "       [0.6128006 , 0.39792988],\n",
       "       [0.41677108, 0.64907616],\n",
       "       [0.19532162, 0.8152362 ],\n",
       "       [0.8303324 , 0.19948837],\n",
       "       [0.8876182 , 0.12484056],\n",
       "       [0.53602594, 0.511984  ],\n",
       "       [0.79873186, 0.27962485],\n",
       "       [0.21890393, 0.71866965],\n",
       "       [0.49788234, 0.4905013 ],\n",
       "       [0.18439072, 0.78626585],\n",
       "       [0.05654678, 0.9371205 ],\n",
       "       [0.22123122, 0.8108374 ],\n",
       "       [0.5940106 , 0.53513604],\n",
       "       [0.10136497, 0.83848184],\n",
       "       [0.7816436 , 0.22818244],\n",
       "       [0.11892307, 0.85723734],\n",
       "       [0.08698499, 0.9073508 ],\n",
       "       [0.04770574, 0.94347936],\n",
       "       [0.7839036 , 0.28832692],\n",
       "       [0.18736598, 0.79823166],\n",
       "       [0.7092315 , 0.33778065],\n",
       "       [0.2633122 , 0.7534791 ],\n",
       "       [0.5561241 , 0.39795604],\n",
       "       [0.28171146, 0.7249315 ],\n",
       "       [0.22558191, 0.8139733 ],\n",
       "       [0.53104115, 0.38554686],\n",
       "       [0.19899702, 0.7505458 ],\n",
       "       [0.5159553 , 0.49935874],\n",
       "       [0.1681397 , 0.85551405],\n",
       "       [0.12474304, 0.89643943],\n",
       "       [0.56236774, 0.45557398],\n",
       "       [0.5597592 , 0.31810904],\n",
       "       [0.04877988, 0.94091743],\n",
       "       [0.81516325, 0.23227325],\n",
       "       [0.33581066, 0.6617225 ],\n",
       "       [0.4892451 , 0.5217291 ],\n",
       "       [0.49840528, 0.54551864],\n",
       "       [0.44026008, 0.61936307],\n",
       "       [0.7848897 , 0.28472513],\n",
       "       [0.25849438, 0.6909009 ],\n",
       "       [0.37977996, 0.6353704 ],\n",
       "       [0.44055972, 0.66680026],\n",
       "       [0.8385112 , 0.26184866],\n",
       "       [0.68476474, 0.44838676],\n",
       "       [0.05578381, 0.9308206 ],\n",
       "       [0.05624664, 0.92761   ],\n",
       "       [0.324894  , 0.72973126],\n",
       "       [0.43578798, 0.45286494],\n",
       "       [0.5285164 , 0.46882564],\n",
       "       [0.23482138, 0.8199121 ],\n",
       "       [0.27668965, 0.7274085 ],\n",
       "       [0.5868931 , 0.3753238 ],\n",
       "       [0.71758014, 0.25484794],\n",
       "       [0.4010459 , 0.4258542 ],\n",
       "       [0.5492639 , 0.28098395],\n",
       "       [0.4504909 , 0.5081093 ],\n",
       "       [0.70979714, 0.21072274],\n",
       "       [0.08111462, 0.90064096],\n",
       "       [0.18457621, 0.79677075],\n",
       "       [0.25262955, 0.74974835],\n",
       "       [0.20049453, 0.7858419 ],\n",
       "       [0.07082674, 0.8834141 ],\n",
       "       [0.8034768 , 0.3051986 ],\n",
       "       [0.5208457 , 0.5261041 ],\n",
       "       [0.18460992, 0.8106001 ],\n",
       "       [0.4595864 , 0.4965618 ],\n",
       "       [0.1049208 , 0.8724673 ],\n",
       "       [0.19854137, 0.7785518 ],\n",
       "       [0.16548923, 0.8567618 ],\n",
       "       [0.7971293 , 0.18995708],\n",
       "       [0.2991426 , 0.7863265 ],\n",
       "       [0.19219545, 0.83926255],\n",
       "       [0.14485517, 0.8199959 ],\n",
       "       [0.40694064, 0.5749649 ],\n",
       "       [0.1210565 , 0.8446431 ],\n",
       "       [0.15335631, 0.8236346 ],\n",
       "       [0.38741615, 0.6283153 ],\n",
       "       [0.7716996 , 0.22405094],\n",
       "       [0.11469597, 0.7873908 ],\n",
       "       [0.8540797 , 0.2175991 ],\n",
       "       [0.2648734 , 0.7890161 ],\n",
       "       [0.34600407, 0.7729323 ],\n",
       "       [0.09472635, 0.84370244],\n",
       "       [0.17548281, 0.705077  ],\n",
       "       [0.68237346, 0.27613997],\n",
       "       [0.07930961, 0.89976585],\n",
       "       [0.36493012, 0.5588715 ],\n",
       "       [0.16751117, 0.8491601 ],\n",
       "       [0.7867309 , 0.2374402 ],\n",
       "       [0.40693614, 0.6216688 ],\n",
       "       [0.53854275, 0.45276502],\n",
       "       [0.19645613, 0.7924356 ],\n",
       "       [0.4859166 , 0.5091112 ],\n",
       "       [0.59576476, 0.46659908],\n",
       "       [0.79835033, 0.19860518],\n",
       "       [0.11991751, 0.901068  ],\n",
       "       [0.5277137 , 0.48095512],\n",
       "       [0.35583925, 0.75341994],\n",
       "       [0.19999716, 0.8303443 ],\n",
       "       [0.25709352, 0.8011551 ],\n",
       "       [0.34097543, 0.5997516 ],\n",
       "       [0.3064052 , 0.7271682 ],\n",
       "       [0.14304903, 0.82328105],\n",
       "       [0.42925945, 0.5438767 ],\n",
       "       [0.3804984 , 0.630661  ],\n",
       "       [0.594787  , 0.4151399 ],\n",
       "       [0.23314199, 0.7069813 ],\n",
       "       [0.57040954, 0.31731272],\n",
       "       [0.13186428, 0.82805943],\n",
       "       [0.77567786, 0.19597754],\n",
       "       [0.05730423, 0.9254478 ],\n",
       "       [0.38046724, 0.6026092 ],\n",
       "       [0.30553287, 0.6913048 ],\n",
       "       [0.4946231 , 0.5957907 ],\n",
       "       [0.19472325, 0.74091005],\n",
       "       [0.8831576 , 0.07483584],\n",
       "       [0.21041423, 0.6726048 ],\n",
       "       [0.3139363 , 0.7142064 ],\n",
       "       [0.16022158, 0.75290966],\n",
       "       [0.89301795, 0.14453611],\n",
       "       [0.34987986, 0.6521421 ],\n",
       "       [0.4105949 , 0.55624425],\n",
       "       [0.74646693, 0.36106688],\n",
       "       [0.38162252, 0.5743039 ],\n",
       "       [0.6589529 , 0.34209996],\n",
       "       [0.37234426, 0.6549107 ],\n",
       "       [0.04720196, 0.9550072 ],\n",
       "       [0.53944016, 0.41162914],\n",
       "       [0.7071587 , 0.2214728 ],\n",
       "       [0.10416839, 0.89536744],\n",
       "       [0.5315571 , 0.4434149 ],\n",
       "       [0.3845315 , 0.59393764],\n",
       "       [0.56939137, 0.50639814],\n",
       "       [0.09653643, 0.87394965],\n",
       "       [0.5980895 , 0.53554547],\n",
       "       [0.10399508, 0.8551433 ],\n",
       "       [0.21305427, 0.8274677 ],\n",
       "       [0.57870436, 0.24460444],\n",
       "       [0.22558227, 0.83969396],\n",
       "       [0.5496455 , 0.4904892 ],\n",
       "       [0.1132817 , 0.8597396 ],\n",
       "       [0.25909632, 0.72447836],\n",
       "       [0.07742167, 0.9193032 ],\n",
       "       [0.59299207, 0.40667635],\n",
       "       [0.20759779, 0.82470703],\n",
       "       [0.28961948, 0.698346  ],\n",
       "       [0.48822048, 0.48268777],\n",
       "       [0.38207588, 0.4273437 ],\n",
       "       [0.20801875, 0.7875447 ],\n",
       "       [0.14917347, 0.81325567],\n",
       "       [0.49408793, 0.52305645],\n",
       "       [0.43241003, 0.49329337],\n",
       "       [0.30515233, 0.634229  ],\n",
       "       [0.15996414, 0.8020108 ],\n",
       "       [0.5235723 , 0.5780434 ],\n",
       "       [0.53260016, 0.3620608 ],\n",
       "       [0.5598049 , 0.37473372],\n",
       "       [0.35378748, 0.75014216],\n",
       "       [0.7019468 , 0.29953873],\n",
       "       [0.56357366, 0.4564242 ],\n",
       "       [0.4824376 , 0.5336637 ],\n",
       "       [0.43139514, 0.55387866],\n",
       "       [0.39182076, 0.5855355 ],\n",
       "       [0.14108452, 0.7550365 ],\n",
       "       [0.09235036, 0.9222959 ],\n",
       "       [0.24817222, 0.7261187 ],\n",
       "       [0.20401946, 0.85938096],\n",
       "       [0.49226695, 0.5012389 ],\n",
       "       [0.63217   , 0.28245676],\n",
       "       [0.07397825, 0.9183004 ],\n",
       "       [0.79048866, 0.24606496],\n",
       "       [0.8300129 , 0.17542377],\n",
       "       [0.66712546, 0.25204778]], dtype=float32)"
      ]
     },
     "execution_count": 167,
     "metadata": {},
     "output_type": "execute_result"
    }
   ],
   "source": [
    "pred_y"
   ]
  },
  {
   "cell_type": "code",
   "execution_count": 168,
   "id": "28742623",
   "metadata": {},
   "outputs": [],
   "source": [
    "y_pred = []\n",
    "for doc in pred_y:\n",
    "    y_pred.append(np.argmax(doc, axis=None, out=None))"
   ]
  },
  {
   "cell_type": "code",
   "execution_count": 169,
   "id": "b7e3658f",
   "metadata": {},
   "outputs": [
    {
     "data": {
      "text/plain": [
       "[1, 1, 1, 1, 0, 1, 1, 1, 1, 1]"
      ]
     },
     "execution_count": 169,
     "metadata": {},
     "output_type": "execute_result"
    }
   ],
   "source": [
    "y_pred[0:10]"
   ]
  },
  {
   "cell_type": "code",
   "execution_count": 170,
   "id": "127619a2",
   "metadata": {},
   "outputs": [
    {
     "data": {
      "text/plain": [
       "array([0, 0, 0, 0, 0, 1, 0, 0, 1, 0], dtype=int64)"
      ]
     },
     "execution_count": 170,
     "metadata": {},
     "output_type": "execute_result"
    }
   ],
   "source": [
    "y_test[0:10]"
   ]
  },
  {
   "cell_type": "code",
   "execution_count": 171,
   "id": "6daf3caa",
   "metadata": {},
   "outputs": [
    {
     "name": "stdout",
     "output_type": "stream",
     "text": [
      "              precision    recall  f1-score   support\n",
      "\n",
      "           0       0.48      0.34      0.39       158\n",
      "           1       0.54      0.68      0.60       180\n",
      "\n",
      "    accuracy                           0.52       338\n",
      "   macro avg       0.51      0.51      0.50       338\n",
      "weighted avg       0.51      0.52      0.50       338\n",
      "\n"
     ]
    }
   ],
   "source": [
    "print(classification_report(y_test, y_pred))"
   ]
  },
  {
   "cell_type": "code",
   "execution_count": 172,
   "id": "e64f04c8",
   "metadata": {},
   "outputs": [
    {
     "name": "stdout",
     "output_type": "stream",
     "text": [
      "[1, 1, 1, 1, 0, 1, 1, 1, 1, 1, 1, 0, 1, 0, 1, 0, 0, 0, 1, 1, 0, 1, 0, 1, 1, 1, 0, 1, 1, 1, 1, 1, 1, 1, 1, 1, 1, 0, 0, 1, 0, 1, 1, 0, 0, 1, 0, 0, 1, 1, 1, 1, 1, 1, 1, 0, 0, 1, 0, 1, 1, 0, 0, 0, 1, 0, 1, 1, 1, 1, 1, 0, 1, 1, 0, 0, 0, 1, 1, 1, 0, 1, 1, 1, 1, 1, 0, 1, 1, 0, 0, 0, 1, 1, 1, 1, 0, 1, 1, 0, 1, 1, 0, 1, 1, 1, 1, 1, 0, 1, 0, 1, 1, 1, 1, 1, 0, 1, 1, 1, 1, 0, 0, 0, 1, 0, 1, 0, 1, 0, 1, 0, 1, 1, 1, 0, 1, 1, 1, 1, 1, 0, 1, 0, 1, 0, 1, 1, 0, 1, 1, 0, 1, 1, 1, 1, 0, 1, 1, 1, 0, 1, 1, 1, 1, 0, 1, 1, 0, 0, 0, 0, 1, 0, 1, 1, 1, 0, 1, 0, 1, 1, 1, 0, 1, 0, 1, 0, 1, 1, 0, 1, 0, 1, 1, 0, 0, 1, 0, 1, 1, 1, 1, 0, 1, 1, 1, 0, 0, 1, 1, 1, 1, 0, 1, 1, 0, 0, 1, 0, 1, 0, 1, 1, 1, 1, 1, 0, 1, 1, 1, 1, 1, 1, 0, 1, 1, 1, 1, 1, 1, 1, 0, 1, 0, 1, 1, 1, 1, 0, 1, 1, 1, 0, 1, 0, 1, 1, 0, 0, 1, 0, 1, 1, 1, 1, 1, 1, 1, 1, 0, 1, 0, 1, 0, 1, 1, 1, 1, 1, 0, 1, 1, 1, 0, 1, 1, 0, 1, 0, 1, 1, 0, 0, 1, 0, 1, 0, 1, 0, 1, 1, 0, 1, 0, 1, 1, 1, 0, 1, 1, 0, 1, 1, 1, 1, 1, 1, 1, 1, 0, 0, 1, 0, 0, 1, 1, 1, 1, 1, 1, 1, 1, 0, 1, 0, 0, 0]\n"
     ]
    }
   ],
   "source": [
    "print(y_pred)"
   ]
  }
 ],
 "metadata": {
  "interpreter": {
   "hash": "5f23c331dcc0e959a18d97d72b32723b8e8fefc4a029dc171226f15b89161c30"
  },
  "kernelspec": {
   "display_name": "Python 3.8.12 ('base')",
   "language": "python",
   "name": "python3"
  },
  "language_info": {
   "codemirror_mode": {
    "name": "ipython",
    "version": 3
   },
   "file_extension": ".py",
   "mimetype": "text/x-python",
   "name": "python",
   "nbconvert_exporter": "python",
   "pygments_lexer": "ipython3",
   "version": "3.8.12"
  }
 },
 "nbformat": 4,
 "nbformat_minor": 5
}
